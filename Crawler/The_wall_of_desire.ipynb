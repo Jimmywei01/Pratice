{
 "cells": [
  {
   "cell_type": "code",
   "execution_count": 1,
   "metadata": {
    "collapsed": true
   },
   "outputs": [],
   "source": [
    "import requests\n",
    "from bs4 import BeautifulSoup\n",
    "from lib.toolbox import gen_header\n",
    "import shutil\n",
    "raw = \"\"\"Accept:text/html,application/xhtml+xml,application/xml;q=0.9,image/webp,*/*;q=0.8\n",
    "Accept-Encoding:gzip, deflate, sdch, br\n",
    "Accept-Language:en-US,en;q=0.8\n",
    "Cache-Control:no-cache\n",
    "Connection:keep-alive\n",
    "Cookie:forum_2015=1; __gads=ID=1c17dfd11d894d32:T=1493451139:S=ALNI_MYUQzXdWBhWcWCUIhMbKMROfQFb_w; time_deley=0; _ga=GA1.3.231535914.1493451140; _gat=1; __asc=c3ae1e4215bb9b6a38d2394de20; __auc=6e552d4315bb89ff1116ea640ad\n",
    "Host:www.gamebase.com.tw\n",
    "Pragma:no-cache\n",
    "Upgrade-Insecure-Requests:1\n",
    "User-Agent:Mozilla/5.0 (X11; Linux x86_64) AppleWebKit/537.36 (KHTML, like Gecko) Chrome/57.0.2987.133 Safari/537.36\"\"\"\n",
    "header = gen_header(raw)"
   ]
  },
  {
   "cell_type": "code",
   "execution_count": 2,
   "metadata": {
    "collapsed": false
   },
   "outputs": [
    {
     "name": "stderr",
     "output_type": "stream",
     "text": [
      "/home/ubuntu/.pyenv/versions/3.6.1/lib/python3.6/site-packages/requests/packages/urllib3/connectionpool.py:852: InsecureRequestWarning: Unverified HTTPS request is being made. Adding certificate verification is strongly advised. See: https://urllib3.readthedocs.io/en/latest/advanced-usage.html#ssl-warnings\n",
      "  InsecureRequestWarning)\n"
     ]
    },
    {
     "name": "stdout",
     "output_type": "stream",
     "text": [
      "<Response [200]>\n"
     ]
    }
   ],
   "source": [
    "\n",
    "url = 'https://www.gamebase.com.tw/forum/64172/topic/96278769/1'\n",
    "res = requests.get(url , headers=header,verify=False) #抓取網址 強至關閉ssl\n",
    "print(res)\n",
    "soup = BeautifulSoup(res.text,'lxml')  #text記得加 原因 beautifulsoup 要便文字檔才能解析\n",
    "\n",
    "for img in soup.select('.img'):\n",
    "    #print ('https'+img['src']),img['src'].splite('/')[-1] # 前面聯結 用'/' 分開 用最後當作檔名\n",
    "\n",
    "    fname = img['src'].split('/')[-1] #  整理\n",
    "    res2 = requests.get(img['src'], stream=True)  #抓取圖片 再讀取資料(raw) \n",
    "    ###再把圖寫入檔案資料夾之中\n",
    "    \n",
    "    f = open(fname,'wb')  # 把 res2 讀到的檔案 寫到f中(建立資料夾)\n",
    "    \n",
    "    ##寫到資料夾檔案藥用 shitul 套件\n",
    "    shutil.copyfileobj(res2.raw, f)  # 要不要加 http 要看圖的url 做判定\n",
    "    f.close()   # 關閉連線\n",
    "    del res2   #關閉\n"
   ]
  },
  {
   "cell_type": "code",
   "execution_count": 6,
   "metadata": {
    "collapsed": false
   },
   "outputs": [
    {
     "ename": "AttributeError",
     "evalue": "'Response' object has no attribute 'stases_code'",
     "output_type": "error",
     "traceback": [
      "\u001b[0;31m---------------------------------------------------------------------------\u001b[0m",
      "\u001b[0;31mAttributeError\u001b[0m                            Traceback (most recent call last)",
      "\u001b[0;32m<ipython-input-6-58a1b356958d>\u001b[0m in \u001b[0;36m<module>\u001b[0;34m()\u001b[0m\n\u001b[0;32m----> 1\u001b[0;31m \u001b[0mres\u001b[0m\u001b[0;34m.\u001b[0m\u001b[0mstases_code\u001b[0m\u001b[0;34m\u001b[0m\u001b[0m\n\u001b[0m",
      "\u001b[0;31mAttributeError\u001b[0m: 'Response' object has no attribute 'stases_code'"
     ]
    }
   ],
   "source": [
    "res.stases_code\n"
   ]
  }
 ],
 "metadata": {
  "anaconda-cloud": {},
  "kernelspec": {
   "display_name": "Python [default]",
   "language": "python",
   "name": "python3"
  },
  "language_info": {
   "codemirror_mode": {
    "name": "ipython",
    "version": 3
   },
   "file_extension": ".py",
   "mimetype": "text/x-python",
   "name": "python",
   "nbconvert_exporter": "python",
   "pygments_lexer": "ipython3",
   "version": "3.5.2"
  }
 },
 "nbformat": 4,
 "nbformat_minor": 2
}
