{
 "cells": [
  {
   "cell_type": "markdown",
   "metadata": {},
   "source": [
    "## 瞭解 ndarray 的概觀\n",
    "\n",
    "## ndim   屬性\n",
    "## shape 屬性\n",
    "## dtype  屬性"
   ]
  },
  {
   "cell_type": "code",
   "execution_count": 8,
   "metadata": {
    "collapsed": false
   },
   "outputs": [
    {
     "name": "stdout",
     "output_type": "stream",
     "text": [
      "1\n",
      "(6,)\n",
      "int64\n",
      "2\n",
      "(2, 6)\n",
      "int64\n"
     ]
    }
   ],
   "source": [
    "import numpy as np\n",
    "\n",
    "irome = [33,66,77,22,444,11]\n",
    "irome_array = np.array(irome)\n",
    "print(irome_array.ndim)  # number of dimensions 維度\n",
    "print(irome_array.shape) # m*n        求行列數\n",
    "print(irome_array.dtype) # 資料類型\n",
    "\n",
    "# 2D array\n",
    "irome_2d = [range(1,7),[56,3,4,2,8,76]]\n",
    "irome_2d_array = np.array(irome_2d)\n",
    "print(irome_2d_array.ndim)  # number of dimensions 維度\n",
    "print(irome_2d_array.shape) # m*n \n",
    "print(irome_2d_array.dtype) # 資料類型"
   ]
  },
  {
   "cell_type": "markdown",
   "metadata": {},
   "source": [
    "## 建立 ndarray  \n",
    "## numpy 套件除了 array() 方法可以將 list 轉換成 ndarray，還有其他的方法可以建立 ndarray\n",
    "\n",
    "## zeros() 方法\n",
    "## empty() 方法\n",
    "## arange() 方法"
   ]
  },
  {
   "cell_type": "code",
   "execution_count": 9,
   "metadata": {
    "collapsed": false
   },
   "outputs": [
    {
     "name": "stdout",
     "output_type": "stream",
     "text": [
      "[ 0.  0.  0.  0.  0.  0.]\n",
      "------\n",
      "[[ 0.  0.  0.  0.  0.  0.]\n",
      " [ 0.  0.  0.  0.  0.  0.]]\n",
      "------\n",
      "[[[  6.91431254e-310   1.67942241e-316]\n",
      "  [  6.91431316e-310   1.97626258e-323]\n",
      "  [  1.69784118e-316   6.91430452e-310]\n",
      "  [  6.91429783e-310   4.35218248e+111]\n",
      "  [  0.00000000e+000   0.00000000e+000]\n",
      "  [ -1.60688564e-062   0.00000000e+000]]\n",
      "\n",
      " [[  0.00000000e+000   4.05143130e-005]\n",
      "  [  0.00000000e+000   0.00000000e+000]\n",
      "  [  1.61269366e+047   0.00000000e+000]\n",
      "  [  0.00000000e+000   1.75217237e+119]\n",
      "  [  0.00000000e+000   0.00000000e+000]\n",
      "  [  4.82039247e+097   0.00000000e+000]]]\n",
      "------\n",
      "[ 0  1  2  3  4  5  6  7  8  9 10]\n"
     ]
    }
   ],
   "source": [
    "import numpy as np\n",
    "print(np.zeros(6)) # 六個元素均為零的 1d array\n",
    "print(\"------\") # 分隔線\n",
    "print(np.zeros((2, 6))) # 十二個元素均為零的 2d array 2個6欄\n",
    "print(\"------\") # 分隔線\n",
    "print(np.empty((2, 6, 2))) # 二十四個元素均為未初始化的值\n",
    "print(\"------\") # 分隔線\n",
    "print(np.arange(11)) # 十一個元素為 0 到 10 的 1d array"
   ]
  },
  {
   "cell_type": "markdown",
   "metadata": {},
   "source": [
    "## 轉換變數類型 \n",
    "## ndarray 的 astype() 方法可以轉換變數類型"
   ]
  },
  {
   "cell_type": "code",
   "execution_count": 16,
   "metadata": {
    "collapsed": false
   },
   "outputs": [
    {
     "name": "stdout",
     "output_type": "stream",
     "text": [
      "<U2\n",
      "----------------\n",
      "int64\n"
     ]
    }
   ],
   "source": [
    "import numpy as np\n",
    "irome = [\"33\",\"22\",\"11\",\"88\",\"99\"]\n",
    "irome_str_array = np.array(irome)\n",
    "print(irome_str_array.dtype)\n",
    "print(\"----------------\")\n",
    "irome_int_array = irome_str_array.astype(np.int64)\n",
    "print(irome_int_array.dtype) # 看資料類型"
   ]
  },
  {
   "cell_type": "markdown",
   "metadata": {},
   "source": [
    "## 用索引值進行篩選  利用 [ ] 搭配索引值篩選 ndarray"
   ]
  },
  {
   "cell_type": "code",
   "execution_count": 22,
   "metadata": {
    "collapsed": false
   },
   "outputs": [
    {
     "name": "stdout",
     "output_type": "stream",
     "text": [
      "0\n",
      "[0 1 2 3 4]\n",
      "----------\n",
      "[[0 1 2 3 4]\n",
      " [5 6 7 8 9]]\n",
      "---------\n",
      "[5 6 7 8 9]\n",
      "[1 6]\n",
      "[5]\n"
     ]
    }
   ],
   "source": [
    "import numpy as np\n",
    "my_array = np.arange(10) # arange 方法\n",
    "print(my_array[0])\n",
    "print(my_array[0:5])\n",
    "print(\"----------\")\n",
    "\n",
    "my_2d_array = np.array([np.arange(0,5), np.arange(5,10)])\n",
    "print(my_2d_array)\n",
    "print(\"---------\")\n",
    "print(my_2d_array[1,:]) # 第二列\n",
    "print(my_2d_array[:,1]) # 第二欄\n",
    "print(my_2d_array[1,:1]) # 第二列 第二欄\n"
   ]
  },
  {
   "cell_type": "markdown",
   "metadata": {},
   "source": [
    "## 用布林值進行篩選  利用布林值（bool）篩選 ndarray"
   ]
  },
  {
   "cell_type": "code",
   "execution_count": 30,
   "metadata": {
    "collapsed": false
   },
   "outputs": [
    {
     "name": "stdout",
     "output_type": "stream",
     "text": [
      "[ True  True  True  True  True  True]\n",
      "['Modern Web' 'Cloud' 'Big Data' '自我挑戰組']\n",
      "[ True  True  True  True  True False]\n",
      "[56  8 19 14  6]\n"
     ]
    }
   ],
   "source": [
    "ironmen = [56, 8, 19, 14, 6, 71]\n",
    "groups = [\"Modern Web\", \"DevOps\", \"Cloud\", \"Big Data\", \"Security\", \"自我挑戰組\"]\n",
    "ironmen_array = np.array(ironmen)\n",
    "groups_array = np.array(groups)\n",
    "\n",
    "# 用人數去篩選組別\n",
    "print(ironmen_array >= 2) # 布林值陣列\n",
    "print(groups_array[ironmen_array >= 10]) # 鐵人數大於 10 的組別\n",
    "\n",
    "\n",
    "# 用組別去篩選人數\n",
    "print(groups_array !=\"自我挑戰組\") # 布林值陣列\n",
    "print(ironmen_array[groups_array !=\"自我挑戰組\"]) # 除了自我挑戰組織外的人數\n",
    "\n",
    "\n",
    "\n"
   ]
  },
  {
   "cell_type": "markdown",
   "metadata": {},
   "source": [
    "## 2d array 轉置\n"
   ]
  },
  {
   "cell_type": "code",
   "execution_count": 33,
   "metadata": {
    "collapsed": false
   },
   "outputs": [
    {
     "name": "stdout",
     "output_type": "stream",
     "text": [
      "[[0 1 2 3 4]\n",
      " [5 6 7 8 9]]\n",
      "---------\n",
      "[[0 5]\n",
      " [1 6]\n",
      " [2 7]\n",
      " [3 8]\n",
      " [4 9]]\n"
     ]
    }
   ],
   "source": [
    "import numpy as np\n",
    "# 建立2d array\n",
    "m1_array = np.arange(10)\n",
    "m2_array = m1_array.reshape((2,5))\n",
    "print(m2_array)\n",
    "print(\"---------\")\n",
    "print(m2_array.T) # T轉置矩陣"
   ]
  },
  {
   "cell_type": "markdown",
   "metadata": {},
   "source": [
    "## numpy 的 where 方法\n",
    "## 透過 numpy 的 where() 方法在 ndarray 中進行流程控制"
   ]
  },
  {
   "cell_type": "code",
   "execution_count": 34,
   "metadata": {
    "collapsed": false
   },
   "outputs": [
    {
     "data": {
      "text/plain": [
       "array([ 56.,   8.,  19.,  14.,   6.,  71.])"
      ]
     },
     "execution_count": 34,
     "metadata": {},
     "output_type": "execute_result"
    }
   ],
   "source": [
    "import numpy as np\n",
    "\n",
    "ironmen_array = np.array([56, 8, 19, 14, 6, np.nan])\n",
    "np.where(np.isnan(ironmen_array), 71, ironmen_array)"
   ]
  },
  {
   "cell_type": "markdown",
   "metadata": {},
   "source": [
    "## 排序"
   ]
  },
  {
   "cell_type": "code",
   "execution_count": 35,
   "metadata": {
    "collapsed": false
   },
   "outputs": [
    {
     "name": "stdout",
     "output_type": "stream",
     "text": [
      "[56  8 19 14  6 71]\n",
      "[ 6  8 14 19 56 71]\n"
     ]
    }
   ],
   "source": [
    "import numpy as np\n",
    "\n",
    "ironmen_array = np.array([56, 8, 19, 14, 6, 71])\n",
    "print(ironmen_array)\n",
    "ironmen_array.sort()\n",
    "print(ironmen_array)"
   ]
  },
  {
   "cell_type": "markdown",
   "metadata": {},
   "source": [
    "## 隨機變數 透過 numpy 的 random() 方法可以生成隨機變數"
   ]
  },
  {
   "cell_type": "code",
   "execution_count": 36,
   "metadata": {
    "collapsed": false
   },
   "outputs": [
    {
     "name": "stdout",
     "output_type": "stream",
     "text": [
      "[ 1.11763467  0.74138821 -1.14095274  1.06023478 -1.38327577  1.92824353\n",
      " -0.19510621 -0.97090254  0.27399516  0.79055409]\n",
      "---\n",
      "[ 0.70529289  0.98999491  0.7276108   0.98537907  0.40778381  0.03579847\n",
      "  0.79984455  0.31519538  0.46398147  0.66392867]\n"
     ]
    }
   ],
   "source": [
    "import numpy as np\n",
    "\n",
    "normal_samples = np.random.normal(size = 10) # 生成 10 組標準常態分配（平均值為 0，標準差為 1 的常態分配）隨機變數\n",
    "uniform_samples = np.random.uniform(size = 10) # 生成 10 組介於 0 與 1 之間均勻分配隨機變數\n",
    "\n",
    "print(normal_samples)\n",
    "print(\"---\") # 分隔線\n",
    "print(uniform_samples)"
   ]
  },
  {
   "cell_type": "code",
   "execution_count": null,
   "metadata": {
    "collapsed": true
   },
   "outputs": [],
   "source": []
  }
 ],
 "metadata": {
  "kernelspec": {
   "display_name": "Python [conda root]",
   "language": "python",
   "name": "conda-root-py"
  },
  "language_info": {
   "codemirror_mode": {
    "name": "ipython",
    "version": 3
   },
   "file_extension": ".py",
   "mimetype": "text/x-python",
   "name": "python",
   "nbconvert_exporter": "python",
   "pygments_lexer": "ipython3",
   "version": "3.5.2"
  }
 },
 "nbformat": 4,
 "nbformat_minor": 1
}
