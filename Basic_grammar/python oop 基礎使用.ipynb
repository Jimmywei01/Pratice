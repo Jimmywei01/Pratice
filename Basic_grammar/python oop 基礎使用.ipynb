{
 "cells": [
  {
   "cell_type": "code",
   "execution_count": 1,
   "metadata": {
    "collapsed": true
   },
   "outputs": [],
   "source": [
    "import pandas as pd"
   ]
  },
  {
   "cell_type": "code",
   "execution_count": 9,
   "metadata": {
    "collapsed": false
   },
   "outputs": [
    {
     "name": "stdout",
     "output_type": "stream",
     "text": [
      "groups     object\n",
      "irinmen     int64\n",
      "dtype: object\n"
     ]
    }
   ],
   "source": [
    "groups = [\"dd\",\"fff\",\"ssaa\",\"dfsd\",\"qwerr\"]\n",
    "irinmen  = [55,33,12,666,77]\n",
    "irinmen_dict = {\"groups\":groups,\n",
    "               \"irinmen\":irinmen}\n",
    "\n",
    "irinmen_df = pd.DataFrame(irinmen_dict)\n",
    "print(irinmen_df.dtypes)\n"
   ]
  },
  {
   "cell_type": "code",
   "execution_count": 11,
   "metadata": {
    "collapsed": false
   },
   "outputs": [
    {
     "data": {
      "text/html": [
       "<div>\n",
       "<table border=\"1\" class=\"dataframe\">\n",
       "  <thead>\n",
       "    <tr style=\"text-align: right;\">\n",
       "      <th></th>\n",
       "      <th>groups</th>\n",
       "      <th>irinmen</th>\n",
       "    </tr>\n",
       "  </thead>\n",
       "  <tbody>\n",
       "    <tr>\n",
       "      <th>0</th>\n",
       "      <td>dd</td>\n",
       "      <td>55</td>\n",
       "    </tr>\n",
       "    <tr>\n",
       "      <th>1</th>\n",
       "      <td>fff</td>\n",
       "      <td>33</td>\n",
       "    </tr>\n",
       "    <tr>\n",
       "      <th>2</th>\n",
       "      <td>ssaa</td>\n",
       "      <td>12</td>\n",
       "    </tr>\n",
       "  </tbody>\n",
       "</table>\n",
       "</div>"
      ],
      "text/plain": [
       "  groups  irinmen\n",
       "0     dd       55\n",
       "1    fff       33\n",
       "2   ssaa       12"
      ]
     },
     "execution_count": 11,
     "metadata": {},
     "output_type": "execute_result"
    }
   ],
   "source": [
    "irinmen_df.head(n=3)"
   ]
  },
  {
   "cell_type": "markdown",
   "metadata": {},
   "source": [
    "## 1.定義類別 Irome（class模板）一但類別 Irome 被定義完成，就可以使用 Irome() 當作建構子（Constructor）建立 def方法(__init__)及物件屬性,(goup,par) \n",
    "\n",
    "## 2.建立物件(modden_web....等),使用物件屬性(再物件後面使用 '' . ''接屬性名group) \n",
    "\n",
    "## 3.用 Artic (class模板)繼承 Irome (新定義的類別可以繼承舊的類別，可以沿用舊類別中的屬性及方法)\n",
    "\n"
   ]
  },
  {
   "cell_type": "markdown",
   "metadata": {},
   "source": [
    "## class(模板)  方法def(self,group)(建構子,物件屬性)  Artic(Irome) 類別繼承"
   ]
  },
  {
   "cell_type": "code",
   "execution_count": 28,
   "metadata": {
    "collapsed": false
   },
   "outputs": [
    {
     "name": "stdout",
     "output_type": "stream",
     "text": [
      "morden_web 預計組有 990 篇文\n",
      "morden_web 組有 33 位參加\n"
     ]
    }
   ],
   "source": [
    "class Irome:\n",
    "    '''這是一個 Irome 的類別'''  # Doc string\n",
    "    def __init__(self, group,par):  # \"morden_web\",66 傳入\n",
    "        self.group = group  \n",
    "        self.par = par\n",
    "        \n",
    "    def print_info(self):\n",
    "        print(self.group,\"組有\", self.par, \"位參加\")\n",
    "        \n",
    "        \n",
    "# Artic 類別繼承 Irome 類別        \n",
    "class Artic(Irome):\n",
    "    '''\n",
    "    這是一個 叫Artic 的類別\n",
    "    Artic 繼承 Irome 類別, 並新增的一個 print_sartic() 方法\n",
    "    '''\n",
    "    def print_sartic(self):\n",
    "        print(self.group,\"預計組有\",self.par*30,\"篇文\")\n",
    "    \n",
    "'''    \n",
    "# 根據 Irome 類別建立一個物件 morden_web (也就是 morden_web再使用Irome(class模板)內的方法)\n",
    "morden_web = Irome(\"morden_web\",66)\n",
    "\n",
    "# 根據 Irome 類別建立一個物件 dev_ops\n",
    "dev_ops = Irome(\"dev_ops\",22)\n",
    "\n",
    "#使用 morden_web 的 print_info() 方法\n",
    "morden_web.print_info()\n",
    "\n",
    "#使用 def_ops 的 print_info() 方法\n",
    "dev_ops.print_info()\n",
    "'''\n",
    "# 根據 Artic 類別建立一個物件 morden_web\n",
    "morden_web = Artic(\"morden_web\",33)\n",
    "\n",
    "#使用 morden_web 的 print_sartic() 方法\n",
    "morden_web.print_sartic()\n",
    "\n",
    "\n",
    "# 檢查 morden_web 是否還有 print_info 方法\n",
    "morden_web.print_info()\n",
    "\n",
    "\n"
   ]
  },
  {
   "cell_type": "code",
   "execution_count": 18,
   "metadata": {
    "collapsed": true
   },
   "outputs": [
    {
     "name": "stdout",
     "output_type": "stream",
     "text": [
      "morden_web\n",
      "66\n",
      "這是一個 Ironmen 的類別\n"
     ]
    },
    {
     "data": {
      "text/plain": [
       "['__class__',\n",
       " '__delattr__',\n",
       " '__dict__',\n",
       " '__dir__',\n",
       " '__doc__',\n",
       " '__eq__',\n",
       " '__format__',\n",
       " '__ge__',\n",
       " '__getattribute__',\n",
       " '__gt__',\n",
       " '__hash__',\n",
       " '__init__',\n",
       " '__le__',\n",
       " '__lt__',\n",
       " '__module__',\n",
       " '__ne__',\n",
       " '__new__',\n",
       " '__reduce__',\n",
       " '__reduce_ex__',\n",
       " '__repr__',\n",
       " '__setattr__',\n",
       " '__sizeof__',\n",
       " '__str__',\n",
       " '__subclasshook__',\n",
       " '__weakref__',\n",
       " 'group',\n",
       " 'par']"
      ]
     },
     "execution_count": 18,
     "metadata": {},
     "output_type": "execute_result"
    }
   ],
   "source": [
    "# 印出 morden_web 的兩個屬性\n",
    "print(morden_web.group)  # 加 . 可印出 morden_web 的兩個屬性\n",
    "print(morden_web.par)\n",
    "# 印出 mordern_web 的類別 doc string\n",
    "print(morden_web.__doc__)\n",
    "\n",
    "# 列出 dir() 函數\n",
    "dir(morden_web)"
   ]
  },
  {
   "cell_type": "markdown",
   "metadata": {},
   "source": [
    "## 4. 繼承時使用 super() 可以根據原本的屬性或方法之上建立新的屬性或方法"
   ]
  },
  {
   "cell_type": "code",
   "execution_count": 34,
   "metadata": {
    "collapsed": false
   },
   "outputs": [
    {
     "name": "stdout",
     "output_type": "stream",
     "text": [
      "Modern Web\n",
      "54\n"
     ]
    }
   ],
   "source": [
    "class OnlyGroup:\n",
    "    '''這是一個叫做 OnlyGroup 的類別''' # Doc string\n",
    "    def __init__(self, group):\n",
    "        self.group = group\n",
    "\n",
    "# Irome 類別繼承 OnlyGroup 類別\n",
    "class Irome(OnlyGroup):\n",
    "    '''這是一個叫做 Irome 的類別''' # Doc string\n",
    "    def __init__(self, group, par): # participants新的物件屬性\n",
    "        super().__init__(group) # 選擇要繼承 原先的 group物件屬性\n",
    "        self.par = par\n",
    "\n",
    "# 根據 Irome 類別建立一個物件 modern_web\n",
    "\n",
    "modern_web = Irome(\"Modern Web\", 54)\n",
    "\n",
    "# 印出 modern_web 的兩個屬性\n",
    "print(modern_web.group)\n",
    "print(modern_web.par)"
   ]
  },
  {
   "cell_type": "markdown",
   "metadata": {},
   "source": [
    "## 5.繼承時改寫方法（Override）\n",
    "## 在先前繼承時成功增加一個方法   print_sartic()， 現在要試著在 Artic 類別中改寫原本 Irome 類別中的 print_info() 方法"
   ]
  },
  {
   "cell_type": "code",
   "execution_count": 38,
   "metadata": {
    "collapsed": false
   },
   "outputs": [
    {
     "name": "stdout",
     "output_type": "stream",
     "text": [
      "morden_web 組有 99 位參加ps 改寫\n"
     ]
    }
   ],
   "source": [
    "class Irome:\n",
    "    '''這是一個 Irome 的類別'''  # Doc string\n",
    "    def __init__(self, group,par):  # \"morden_web\",66 傳入\n",
    "        self.group = group  \n",
    "        self.par = par\n",
    "        \n",
    "    def print_info(self):\n",
    "        print(self.group,\"組有\", self.par, \"位參加\")\n",
    "        \n",
    "        \n",
    "# Artic 類別繼承 Irome 類別        \n",
    "class Artic(Irome):\n",
    "    '''\n",
    "    這是一個 叫Artic 的類別\n",
    "    Artic 繼承 Irome 類別, 並新增的一個 print_sartic() 方法\n",
    "    '''\n",
    "    def print_sartic(self):\n",
    "        print(self.group,\"預計組有\",self.par*30,\"篇文\")\n",
    "        \n",
    "# 改寫 print_info() 方法\n",
    "    def print_info(self):\n",
    "        print(self.group,\"組有\", self.par, \"位參加\" \"ps 改寫\")\n",
    "        \n",
    "# 根據 Artic 類別建立物件 morden_web \n",
    "morden_web = Artic(\"morden_web\",99)\n",
    "\n",
    "# 檢查 mrodern_web 的 print_info() 方法是否被改寫\n",
    "morden_web.print_info()\n",
    "\n"
   ]
  },
  {
   "cell_type": "code",
   "execution_count": null,
   "metadata": {
    "collapsed": true
   },
   "outputs": [],
   "source": []
  }
 ],
 "metadata": {
  "anaconda-cloud": {},
  "kernelspec": {
   "display_name": "Python [conda root]",
   "language": "python",
   "name": "conda-root-py"
  },
  "language_info": {
   "codemirror_mode": {
    "name": "ipython",
    "version": 3
   },
   "file_extension": ".py",
   "mimetype": "text/x-python",
   "name": "python",
   "nbconvert_exporter": "python",
   "pygments_lexer": "ipython3",
   "version": "3.5.2"
  }
 },
 "nbformat": 4,
 "nbformat_minor": 1
}
