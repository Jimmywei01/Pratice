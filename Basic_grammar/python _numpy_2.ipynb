{
 "cells": [
  {
   "cell_type": "code",
   "execution_count": 9,
   "metadata": {
    "collapsed": false
   },
   "outputs": [
    {
     "name": "stdout",
     "output_type": "stream",
     "text": [
      "[[1 2 3]\n",
      " [3 2 1]]\n"
     ]
    }
   ],
   "source": [
    "import numpy as np\n",
    "\n",
    "array = np.array([[1,2,3],[3,2,1]])\n",
    "print(array)"
   ]
  },
  {
   "cell_type": "code",
   "execution_count": 5,
   "metadata": {
    "collapsed": false
   },
   "outputs": [
    {
     "name": "stdout",
     "output_type": "stream",
     "text": [
      "number of dim: 2\n",
      "shape (2, 3)\n",
      "size 6\n"
     ]
    }
   ],
   "source": [
    "print('number of dim:',array.ndim) # 幾維\n",
    "print(\"shape\",array.shape) # 行列多少\n",
    "print('size',array.size) # 幾個元素"
   ]
  },
  {
   "cell_type": "code",
   "execution_count": 37,
   "metadata": {
    "collapsed": false
   },
   "outputs": [
    {
     "name": "stdout",
     "output_type": "stream",
     "text": [
      "float64\n",
      "[[55 33  2]\n",
      " [55  9  8]]\n",
      "[[ 0.  0.  0.  0.]\n",
      " [ 0.  0.  0.  0.]\n",
      " [ 0.  0.  0.  0.]]\n",
      "[[ 0.  0.  0.  0.]\n",
      " [ 0.  0.  0.  0.]\n",
      " [ 0.  0.  0.  0.]\n",
      " [ 0.  0.  0.  0.]]\n",
      "[ 3  5  7  9 11 13 15 17 19]\n",
      "[[ 0  1  2  3  4  5]\n",
      " [ 6  7  8  9 10 11]\n",
      " [12 13 14 15 16 17]]\n",
      "[  1.     3.25   5.5    7.75  10.  ]\n"
     ]
    }
   ],
   "source": [
    "# 創立array\n",
    "a = np.array([5,45,6],dtype = np.float) # 可設定 array 數據形式\n",
    "print(a.dtype)\n",
    "\n",
    "b = np.array([[55,33,2],[55,9,8]])\n",
    "print(b)\n",
    "\n",
    "c = np.zeros((3,4)) # 0 array\n",
    "print(c)\n",
    "\n",
    "d = np.empty((4,4)) # 接近 0 array\n",
    "print(d)\n",
    "\n",
    "e = np.arange(3,20,2)\n",
    "print(e)\n",
    "\n",
    "f = np.arange(18).reshape((3,6))\n",
    "print(f)\n",
    "\n",
    "g = np.linspace(1,10,5) # 生成線段\n",
    "print(g)\n",
    "\n"
   ]
  },
  {
   "cell_type": "code",
   "execution_count": 43,
   "metadata": {
    "collapsed": false
   },
   "outputs": [
    {
     "name": "stdout",
     "output_type": "stream",
     "text": [
      "[10 20 30 40] [0 1 2 3]\n",
      "[10 21 32 43]\n",
      "[-8.39071529  4.08082062  1.5425145  -6.66938062]\n"
     ]
    },
    {
     "data": {
      "text/plain": [
       "array([ True,  True,  True, False], dtype=bool)"
      ]
     },
     "execution_count": 43,
     "metadata": {},
     "output_type": "execute_result"
    }
   ],
   "source": [
    "a = np.array([10,20,30,40])\n",
    "b = np.arange(4)\n",
    "print(a,b)\n",
    "\n",
    "c = a+b\n",
    "print(c)\n",
    "\n",
    "d = 10*np.cos(a)\n",
    "print(d)\n",
    "\n",
    "e = b < 3\n",
    "e"
   ]
  },
  {
   "cell_type": "code",
   "execution_count": 52,
   "metadata": {
    "collapsed": false
   },
   "outputs": [
    {
     "name": "stdout",
     "output_type": "stream",
     "text": [
      "[[0 1]\n",
      " [2 3]]\n",
      "[[ 0  3]\n",
      " [18 24]]\n",
      "[[ 6 14]\n",
      " [16 33]]\n",
      "[[ 6 14]\n",
      " [16 33]]\n"
     ]
    }
   ],
   "source": [
    "# 陣列基礎運算\n",
    "b = np.array([[5,3],[9,8]])\n",
    "c = np.arange(4).reshape((2,2))\n",
    "print(c)\n",
    "# 逐個相乘\n",
    "d = b*c\n",
    "# 矩陣相乘\n",
    "d_dot = np.dot(b,c)\n",
    "print(d)\n",
    "print(d_dot)\n",
    "\n",
    "d_dot_2 = b.dot(c)\n",
    "print(d_dot_2)"
   ]
  },
  {
   "cell_type": "code",
   "execution_count": 59,
   "metadata": {
    "collapsed": false
   },
   "outputs": [
    {
     "name": "stdout",
     "output_type": "stream",
     "text": [
      "[[ 0.0632408   0.43623582  0.53368389  0.88228118  0.35261491]\n",
      " [ 0.88518687  0.77176127  0.5665305   0.70046129  0.13941173]\n",
      " [ 0.5677208   0.06333276  0.26484792  0.58657714  0.15529567]]\n",
      "[ 2.26805659  3.06335166  1.63777429]\n",
      "0.0632408033023\n",
      "0.885186868715\n"
     ]
    }
   ],
   "source": [
    "a = np.random.random((3,5)) # 隨機 array\n",
    "print(a)\n",
    "\n",
    "print(np.sum(a,axis=1))  # axis=1 每一列  axis=0 每一行\n",
    "print(np.min(a))\n",
    "print(np.max(a))"
   ]
  },
  {
   "cell_type": "code",
   "execution_count": 81,
   "metadata": {
    "collapsed": false
   },
   "outputs": [
    {
     "name": "stdout",
     "output_type": "stream",
     "text": [
      "[[ 2  3  4  5]\n",
      " [ 6  7  8  9]\n",
      " [10 11 12 13]]\n",
      "0\n",
      "7.5\n",
      "7.5\n",
      "[ 2  5  9 14 20 27 35 44 54 65 77 90]\n",
      "[[1 1 1]\n",
      " [1 1 1]\n",
      " [1 1 1]]\n",
      "(array([0, 0, 0, 0, 1, 1, 1, 1, 2, 2, 2, 2]), array([0, 1, 2, 3, 0, 1, 2, 3, 0, 1, 2, 3]))\n",
      "[[ 2  3  4  5]\n",
      " [ 6  7  8  9]\n",
      " [10 11 12 13]]\n",
      "[[ 2  6 10]\n",
      " [ 3  7 11]\n",
      " [ 4  8 12]\n",
      " [ 5  9 13]]\n",
      "[[140 158 176 194]\n",
      " [158 179 200 221]\n",
      " [176 200 224 248]\n",
      " [194 221 248 275]]\n",
      "[[5 5 5 5]\n",
      " [6 7 8 9]\n",
      " [9 9 9 9]]\n",
      "[  3.5   7.5  11.5]\n"
     ]
    }
   ],
   "source": [
    "# 陣列基礎運算\n",
    "a = np.arange(2,14).reshape((3,4))\n",
    "print(a)\n",
    "\n",
    "print(np.argmin(a)) # 最小的索引直\n",
    "print(np.mean(a))\n",
    "print(np.median(a)) # 中位數\n",
    "print(np.cumsum(a)) # 累加計算\n",
    "print(np.diff(a)) # 累差\n",
    "print(np.nonzero(a)) \n",
    "print(np.sort(a))\n",
    "print(np.transpose(a)) # 行列交換\n",
    "print((a.T).dot(a)) # 行列交換\n",
    "print(np.clip(a,5,9)) # >5 =5 <9 =9\n",
    "print(np.mean(a,axis=1))"
   ]
  },
  {
   "cell_type": "code",
   "execution_count": 104,
   "metadata": {
    "collapsed": false
   },
   "outputs": [
    {
     "name": "stdout",
     "output_type": "stream",
     "text": [
      "[ 3  4  5  6  7  8  9 10 11 12 13 14]\n",
      "6\n",
      "[[ 3  4  5  6]\n",
      " [ 7  8  9 10]\n",
      " [11 12 13 14]]\n",
      "[11 12 13 14]\n",
      "9\n",
      "9\n",
      "[ 7  8  9 10]\n",
      "[8 9]\n",
      "[ 3  4  5  6  7  8  9 10 11 12 13 14]\n",
      "[3 4 5 6]\n",
      "[ 7  8  9 10]\n",
      "[11 12 13 14]\n",
      "[ 3  7 11]\n",
      "[ 4  8 12]\n",
      "[ 5  9 13]\n",
      "[ 6 10 14]\n",
      "3\n",
      "4\n",
      "5\n",
      "6\n",
      "7\n",
      "8\n",
      "9\n",
      "10\n",
      "11\n",
      "12\n",
      "13\n",
      "14\n"
     ]
    }
   ],
   "source": [
    "# numpy 索引\n",
    "a = np.arange(3,15)\n",
    "print(a)\n",
    "print(a[3])\n",
    "\n",
    "b = np.arange(3,15).reshape(3,4)\n",
    "print(b)\n",
    "print(b[2]) # 索引列數\n",
    "print(b[1][2])\n",
    "print(b[1,2])\n",
    "print(b[1,:])\n",
    "print(b[1,1:3])\n",
    "print(b.flatten()) # 便 list\n",
    "\n",
    "\n",
    "for row in b:\n",
    "    print(row)\n",
    "    \n",
    "for col in b.T:  # 列轉行\n",
    "    print(col)\n",
    "    \n",
    "for item in b.flat: # 列轉行\n",
    "    print(item)"
   ]
  },
  {
   "cell_type": "code",
   "execution_count": 120,
   "metadata": {
    "collapsed": false
   },
   "outputs": [
    {
     "name": "stdout",
     "output_type": "stream",
     "text": [
      "[[1 1 1 1]\n",
      " [2 2 2 2]]\n",
      "(4,) (2, 4)\n",
      "[1 1 1 1 2 2 2 2]\n",
      "(4,) (2, 4)\n",
      "[[1]\n",
      " [1]\n",
      " [1]\n",
      " [1]]\n",
      "[[2]\n",
      " [2]\n",
      " [2]\n",
      " [2]]\n",
      "(4,) (4,)\n",
      "[[1 1 1 1]\n",
      " [2 2 2 2]]\n",
      "[1 1 1 1 2 2 2 2]\n"
     ]
    }
   ],
   "source": [
    "# array 合併\n",
    "a = np.array([1,1,1,1])\n",
    "b = np.array([2,2,2,2])\n",
    "\n",
    "print(np.vstack((a,b))) # vertical stack 上下合併\n",
    "\n",
    "c= np.vstack((a,b))\n",
    "print(a.shape,c.shape) # 行列多少\n",
    "\n",
    "print(np.hstack((a,b))) # horiaontal stack 左右合併\n",
    "d= np.vstack((a,b))\n",
    "print(a.shape,d.shape) # 行列多少\n",
    "\n",
    "print(a[:,np.newaxis]) # 轉向\n",
    "print(b[:,np.newaxis])\n",
    "print(a.shape,b.shape)\n",
    "print(np.vstack((a,b)))\n",
    "print(np.hstack((a,b)))"
   ]
  },
  {
   "cell_type": "code",
   "execution_count": 128,
   "metadata": {
    "collapsed": false
   },
   "outputs": [
    {
     "name": "stdout",
     "output_type": "stream",
     "text": [
      "[[1]\n",
      " [1]\n",
      " [1]\n",
      " [2]\n",
      " [2]\n",
      " [2]\n",
      " [2]\n",
      " [2]\n",
      " [2]\n",
      " [1]\n",
      " [1]\n",
      " [1]]\n",
      "[[1 2 2 1]\n",
      " [1 2 2 1]\n",
      " [1 2 2 1]]\n"
     ]
    }
   ],
   "source": [
    "a = np.array([1,1,1])[:,np.newaxis]\n",
    "b = np.array([2,2,2])[:,np.newaxis]\n",
    "c = np.concatenate((a,b,b,a),axis = 0)  # 多個 array 縱向或橫向合併\n",
    "d = np.concatenate((a,b,b,a),axis = 1)\n",
    "print(c)\n",
    "print(d)"
   ]
  },
  {
   "cell_type": "code",
   "execution_count": 138,
   "metadata": {
    "collapsed": false
   },
   "outputs": [
    {
     "name": "stdout",
     "output_type": "stream",
     "text": [
      "[[ 0  1  2  3]\n",
      " [ 4  5  6  7]\n",
      " [ 8  9 10 11]]\n",
      "[array([[0, 1],\n",
      "       [4, 5],\n",
      "       [8, 9]]), array([[ 2,  3],\n",
      "       [ 6,  7],\n",
      "       [10, 11]])]\n",
      "[array([[0, 1, 2, 3]]), array([[4, 5, 6, 7]]), array([[ 8,  9, 10, 11]])]\n",
      "[array([[0, 1],\n",
      "       [4, 5],\n",
      "       [8, 9]]), array([[ 2],\n",
      "       [ 6],\n",
      "       [10]]), array([[ 3],\n",
      "       [ 7],\n",
      "       [11]])]\n",
      "[array([[0, 1],\n",
      "       [4, 5],\n",
      "       [8, 9]]), array([[ 2,  3],\n",
      "       [ 6,  7],\n",
      "       [10, 11]])]\n",
      "[array([[0, 1, 2, 3]]), array([[4, 5, 6, 7]]), array([[ 8,  9, 10, 11]])]\n"
     ]
    }
   ],
   "source": [
    "# 分割 array \n",
    "\n",
    "a = np.arange(12).reshape(3,4)\n",
    "print(a)\n",
    "\n",
    "print(np.split(a,2,axis = 1)) # 行分割2塊\n",
    "print(np.split(a,3,axis = 0)) # 列分割3塊\n",
    "print(np.array_split(a,3,axis = 1)) # 不等分割\n",
    "\n",
    "print(np.hsplit(a,2)) # 行分割2塊\n",
    "print(np.vsplit(a,3))# 列分割3塊\n"
   ]
  },
  {
   "cell_type": "code",
   "execution_count": 155,
   "metadata": {
    "collapsed": false
   },
   "outputs": [
    {
     "name": "stdout",
     "output_type": "stream",
     "text": [
      "[0 1 2 3]\n",
      "[0 1 2 3]\n",
      "[11  1  2  3]\n",
      "[11  1  2  3]\n",
      "[11  1 44  3]\n",
      "[11  1  2  3]\n"
     ]
    }
   ],
   "source": [
    "# copy deep copy\n",
    "\n",
    "a = np.arange(4)\n",
    "print(a)\n",
    "b=a\n",
    "print(b)\n",
    "a[0] = 11  # 改變其中一個直都會便 copy\n",
    "print(a)\n",
    "print(b)\n",
    "\n",
    "b = a.copy() # deep copy 把 a直給 b  沒把 b關連上 a\n",
    "a[2] = 44\n",
    "print(a)\n",
    "print(b) # 值未改變"
   ]
  }
 ],
 "metadata": {
  "anaconda-cloud": {},
  "kernelspec": {
   "display_name": "Python [default]",
   "language": "python",
   "name": "python3"
  },
  "language_info": {
   "codemirror_mode": {
    "name": "ipython",
    "version": 3
   },
   "file_extension": ".py",
   "mimetype": "text/x-python",
   "name": "python",
   "nbconvert_exporter": "python",
   "pygments_lexer": "ipython3",
   "version": "3.5.2"
  }
 },
 "nbformat": 4,
 "nbformat_minor": 2
}
