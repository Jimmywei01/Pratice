{
 "cells": [
  {
   "cell_type": "markdown",
   "metadata": {},
   "source": [
    "# def global &local\n"
   ]
  },
  {
   "cell_type": "code",
   "execution_count": 1,
   "metadata": {
    "collapsed": false
   },
   "outputs": [
    {
     "name": "stdout",
     "output_type": "stream",
     "text": [
      "100\n",
      "20\n",
      "60\n",
      "30\n"
     ]
    }
   ],
   "source": [
    "# 要設定 global 才會變全域變數\n",
    "app = 100   \n",
    "a = 20      \n",
    "def fun():\n",
    "    global a\n",
    "    a = 30\n",
    "    c = a+30\n",
    "    return c\n",
    "\n",
    "print(app)\n",
    "print(a)\n",
    "print(fun())\n",
    "print(a)"
   ]
  },
  {
   "cell_type": "code",
   "execution_count": 2,
   "metadata": {
    "collapsed": false
   },
   "outputs": [
    {
     "name": "stdout",
     "output_type": "stream",
     "text": [
      "100\n",
      "20\n",
      "60\n",
      "20\n"
     ]
    }
   ],
   "source": [
    "# 刪除 global就變回local(區域變數)\n",
    "app = 100     \n",
    "a = 20        \n",
    "def fun():\n",
    "   # 刪除 global \n",
    "    a = 30\n",
    "    c = a+30\n",
    "    return c\n",
    "\n",
    "print(app)\n",
    "print(a)\n",
    "print(fun())\n",
    "print(a)"
   ]
  },
  {
   "cell_type": "markdown",
   "metadata": {},
   "source": [
    "# I/O"
   ]
  },
  {
   "cell_type": "code",
   "execution_count": 3,
   "metadata": {
    "collapsed": true
   },
   "outputs": [],
   "source": [
    "# W 單一行寫入 多行寫入會被覆蓋\n",
    "text = 'lolololol'\n",
    "with open('file.txt','w') as f:\n",
    "    f.write(text)                     # 寫入檔案\n",
    "    f.close()\n"
   ]
  },
  {
   "cell_type": "code",
   "execution_count": 4,
   "metadata": {
    "collapsed": true
   },
   "outputs": [],
   "source": [
    "# a append 至下一行不會被覆蓋\n",
    "text = 'kfkfkdlfkgklklkj'\n",
    "with open('file.txt','a') as f:\n",
    "    f.write(text)                     # 寫入檔案\n",
    "    f.close()"
   ]
  },
  {
   "cell_type": "code",
   "execution_count": 5,
   "metadata": {
    "collapsed": false
   },
   "outputs": [
    {
     "name": "stdout",
     "output_type": "stream",
     "text": [
      "lololololkfkfkdlfkgklklkj\n"
     ]
    }
   ],
   "source": [
    "# 一次一行輸出(readline)\n",
    "# 全部讀取 按順序在list裡(readlines)\n",
    "# 全部讀取 (read)\n",
    "with open('file.txt','r') as f:\n",
    "    cotent = f.read()\n",
    "    print(cotent)"
   ]
  },
  {
   "cell_type": "markdown",
   "metadata": {},
   "source": [
    "# class\n",
    "## 定義一種類型  每種類型都會有特定屬性和特定功能"
   ]
  },
  {
   "cell_type": "code",
   "execution_count": 6,
   "metadata": {
    "collapsed": false
   },
   "outputs": [
    {
     "name": "stdout",
     "output_type": "stream",
     "text": [
      "good\n",
      "good\n",
      "12\n"
     ]
    }
   ],
   "source": [
    "class Calce:\n",
    "    name = 'good'  # class屬性\n",
    "    price = 18     # class屬性\n",
    "    def add(self,x,y): #定義功能 self 默認值\n",
    "        print(self.name) \n",
    "        result = x+y\n",
    "        print(result)\n",
    "        \n",
    "aa = Calce()  # aa 擁有 calce 的屬性和功能\n",
    "print(aa.name) # self 的功能用 name 屬性\n",
    "aa.add(10,2)   # 帶入參數 "
   ]
  },
  {
   "cell_type": "code",
   "execution_count": 7,
   "metadata": {
    "collapsed": false
   },
   "outputs": [
    {
     "name": "stdout",
     "output_type": "stream",
     "text": [
      "good\n",
      "18\n",
      "9\n",
      "8\n"
     ]
    }
   ],
   "source": [
    "# 在運算中賦予值(初始化) 因此在呼叫時會連同呼叫\n",
    "# __init__(self,other)  初始化單一物件 將other 當成self \n",
    "class Calce:\n",
    "    name = 'good'  # class屬性\n",
    "    price = 18     # class屬性\n",
    "    def __init__(self,name,x=20,y=9,z=8): #定義功能 self 默認值(類似java)        \n",
    "        #result = x+y\n",
    "        self.name = name\n",
    "        self.x = x  \n",
    "        self.y = y\n",
    "        self.z = z\n",
    "        \n",
    "aa = Calce('good',18)  # aa 擁有 calce 的初始化屬性\n",
    "print(aa.name)           # self 的功能用 name 屬性\n",
    "print(aa.x)\n",
    "print(aa.y)\n",
    "print(aa.z)\n",
    "    "
   ]
  },
  {
   "cell_type": "markdown",
   "metadata": {},
   "source": [
    "# try except\n"
   ]
  },
  {
   "cell_type": "code",
   "execution_count": 8,
   "metadata": {
    "collapsed": false
   },
   "outputs": [
    {
     "name": "stdout",
     "output_type": "stream",
     "text": [
      "name 'file' is not defined\n"
     ]
    }
   ],
   "source": [
    "try:\n",
    "    file('ddd','r')\n",
    "except Exception as e:    # 把錯誤訊息放入e\n",
    "    \n",
    "    print(e)\n",
    "    \n",
    "    respons = (\"fffff\")"
   ]
  },
  {
   "cell_type": "markdown",
   "metadata": {},
   "source": [
    "# zip lambda map"
   ]
  },
  {
   "cell_type": "code",
   "execution_count": 9,
   "metadata": {
    "collapsed": false
   },
   "outputs": [
    {
     "data": {
      "text/plain": [
       "[(1, 4), (2, 5), (3, 6)]"
      ]
     },
     "execution_count": 9,
     "metadata": {},
     "output_type": "execute_result"
    }
   ],
   "source": [
    "# zip -- tuple類型\n",
    "a=[1,2,3]\n",
    "b=[4,5,6]\n",
    "zip(a,b)        # tuple類型\n",
    "list(zip(a,b))  # 迭代器\n",
    "\n",
    "# for i,j in zip(a,b):    \n",
    "#     print(i/2,j*2) \n",
    "    \n"
   ]
  },
  {
   "cell_type": "code",
   "execution_count": 10,
   "metadata": {
    "collapsed": false,
    "scrolled": true
   },
   "outputs": [
    {
     "name": "stdout",
     "output_type": "stream",
     "text": [
      "10\n"
     ]
    }
   ],
   "source": [
    "# def function 用 lambda 改寫\n",
    "def max(m,n):\n",
    "    return m if m > n else n\n",
    "print(max(10,3))"
   ]
  },
  {
   "cell_type": "code",
   "execution_count": 11,
   "metadata": {
    "collapsed": false
   },
   "outputs": [
    {
     "name": "stdout",
     "output_type": "stream",
     "text": [
      "10\n"
     ]
    }
   ],
   "source": [
    "# lambda -- 匿名函數  簡單function define(只能定義一個函式) 簡化def陳述句\n",
    "# 語法 -- lambda arg1,arg2,.....expression(運算式)\n",
    "max =  lambda m,n : m if m > n else n\n",
    "print(max(10,3))"
   ]
  },
  {
   "cell_type": "code",
   "execution_count": 12,
   "metadata": {
    "collapsed": false
   },
   "outputs": [
    {
     "data": {
      "text/plain": [
       "[9, 10]"
      ]
     },
     "execution_count": 12,
     "metadata": {},
     "output_type": "execute_result"
    }
   ],
   "source": [
    "# 把函式和參數榜在一起\n",
    "# map(function,iterbale...)  取得函數計算interbale中每個元素結果\n",
    "# interbale 用 list[]表示\n",
    "def fun(x,y):\n",
    "     return(x+y)\n",
    "\n",
    "list(map(fun,[1],[2]))\n",
    "\n",
    "list(map(fun,[1,3],[8,7]))"
   ]
  },
  {
   "cell_type": "markdown",
   "metadata": {},
   "source": [
    "#  copy & deepcopy"
   ]
  },
  {
   "cell_type": "code",
   "execution_count": 13,
   "metadata": {
    "collapsed": false
   },
   "outputs": [
    {
     "name": "stdout",
     "output_type": "stream",
     "text": [
      "[1, 2, 6] [1, 2, 6]\n",
      "True\n"
     ]
    }
   ],
   "source": [
    "# id 代表記憶體位置\n",
    "import copy\n",
    "a = [1,2,6]\n",
    "b=a\n",
    "print(a,b)\n",
    "print(id(a)==id(b))"
   ]
  },
  {
   "cell_type": "code",
   "execution_count": 14,
   "metadata": {
    "collapsed": false
   },
   "outputs": [
    {
     "name": "stdout",
     "output_type": "stream",
     "text": [
      "[1, 2, [3, 4]] [1, 2, [3, 4]]\n",
      "False\n",
      "[1, 2, [3, 4]] [1, 2, 22222]\n"
     ]
    }
   ],
   "source": [
    "# shallow copy 只會複製當前物件\n",
    "a =[1,2,[3,4]]\n",
    "c = copy.copy(a)\n",
    "id(c)\n",
    "print(a,c)\n",
    "print(id(a)==id(c))\n",
    "id(a) is id(c)\n",
    "c[2]=22222\n",
    "print(a,c)"
   ]
  },
  {
   "cell_type": "code",
   "execution_count": 15,
   "metadata": {
    "collapsed": false
   },
   "outputs": [
    {
     "name": "stdout",
     "output_type": "stream",
     "text": [
      "[1, 2, [3, 4]] [1, 2, [3, 4]]\n",
      "False\n",
      "[1, 2, [3, 4]] [1, 2, 22222]\n"
     ]
    }
   ],
   "source": [
    "# deepcopy  完全複製連同物件屬性\n",
    "c = copy.deepcopy(a)\n",
    "id(c)\n",
    "print(a,c)\n",
    "print(id(a)==id(c))\n",
    "id(a) is id(c)\n",
    "c[2]=22222\n",
    "id(a) is id(c)\n",
    "print(a,c)"
   ]
  },
  {
   "cell_type": "markdown",
   "metadata": {},
   "source": [
    "# Pickle\n",
    "# (序列化物件--將記憶體內物件資訊保留下來以下次使用)"
   ]
  },
  {
   "cell_type": "code",
   "execution_count": 16,
   "metadata": {
    "collapsed": false
   },
   "outputs": [
    {
     "name": "stdout",
     "output_type": "stream",
     "text": [
      "{'a': 1, 'b': 2, 'c': 3}\n"
     ]
    }
   ],
   "source": [
    "# 將物件轉換為bytes(二進位模式) 使用dumps()\n",
    "# 將bytes轉換為物件 使用load()\n",
    "import pickle\n",
    "obj = {'a': 1, 'b': 2, 'c': 3}\n",
    " \n",
    "# 将 obj 持久化保存到文件 tmp.txt 中 要用wb\n",
    "with open(\"tmp.txt\", \"wb\") as f :\n",
    "    pickle.dump(obj,f)\n",
    "#pickle.dump(obj, open(\"tmp.txt\", \"w\"))\n",
    " \n",
    "# do something else ...\n",
    " \n",
    "# 从 tmp.txt 中读取并恢复 obj 对象\n",
    "with open(\"tmp.txt\", \"rb\") as k :\n",
    "    objt2 = pickle.load(k)\n",
    " \n",
    "    print(objt2)\n"
   ]
  },
  {
   "cell_type": "markdown",
   "metadata": {},
   "source": [
    "#  Thaeading"
   ]
  },
  {
   "cell_type": "code",
   "execution_count": 17,
   "metadata": {
    "collapsed": false
   },
   "outputs": [
    {
     "name": "stdout",
     "output_type": "stream",
     "text": [
      "This is a thread of <Thread(Thread-4, started 139672336463616)>6\n",
      "\n",
      "\n",
      "\n",
      "[<_MainThread(MainThread, started 139672903534336)>, <Thread(Thread-2, started daemon 139672724236032)>, <Heartbeat(Thread-3, started daemon 139672715843328)>, <HistorySavingThread(IPythonHistorySavingThread, started 139672690665216)>, <ParentPollerUnix(Thread-1, started daemon 139672681486080)>, <Thread(Thread-4, started 139672336463616)>]\n",
      "\n",
      "\n",
      "<_MainThread(MainThread, started 139672903534336)>\n"
     ]
    }
   ],
   "source": [
    "import threading \n",
    "def job():\n",
    "    print('This is a thread of %s' % threading.current_thread())\n",
    "    \n",
    "def main():\n",
    "    added_thread = threading.Thread(target=job) # 每一個工作都是一個功能\n",
    "    added_thread.start()                        # 開始\n",
    "    \n",
    "    print(threading.active_count()) # 顯示目前有幾個線程\n",
    "    print(\"\\n\")\n",
    "    print(threading.enumerate()) # 顯示現成的名子\n",
    "    print(\"\\n\")\n",
    "    print(threading.current_thread()) # 看現在運行是那個線程\n",
    "\n",
    "if __name__ == '__main__':\n",
    "    main()"
   ]
  },
  {
   "cell_type": "code",
   "execution_count": 18,
   "metadata": {
    "collapsed": false
   },
   "outputs": [
    {
     "name": "stdout",
     "output_type": "stream",
     "text": [
      "T1 start\n",
      "\n",
      "all done\n",
      "\n"
     ]
    }
   ],
   "source": [
    "import threading\n",
    "import time          \n",
    "\n",
    "# 未加 join\n",
    "\n",
    "def thread_job():\n",
    "    print(\"T1 start\\n\")\n",
    "    for i in range(10):\n",
    "        time.sleep(0.1)  # 暫停 0.1s\n",
    "    print(\"T1 finish\\n\")\n",
    "\n",
    "added_thread = threading.Thread(target=thread_job, name='T1') # 線程的名子\n",
    "added_thread.start()\n",
    "\n",
    "print(\"all done\\n\")\n",
    "\n"
   ]
  },
  {
   "cell_type": "code",
   "execution_count": 19,
   "metadata": {
    "collapsed": false
   },
   "outputs": [
    {
     "name": "stdout",
     "output_type": "stream",
     "text": [
      "T1 start\n",
      "\n",
      "T1 finish\n",
      "\n",
      "T1 finish\n",
      "\n",
      "T2 start\n",
      "\n",
      "T2 finish\n",
      "\n",
      "all done\n",
      "\n"
     ]
    }
   ],
   "source": [
    "# 加 join\n",
    "def t1_job():\n",
    "    print(\"T1 start\\n\")\n",
    "    for i in range(10):\n",
    "        time.sleep(0.1)  # 暫停 0.1s\n",
    "    print(\"T1 finish\\n\")\n",
    "\n",
    "def t2_job():    \n",
    "    print(\"T2 start\\n\")\n",
    "    print(\"T2 finish\\n\")\n",
    "\n",
    "thread_1 = threading.Thread(target=t1_job, name='T1') # 線程的名子\n",
    "thread_1.start()\n",
    "thread_1.join() # 等待所有工作完成才續 GO\n",
    "\n",
    "thread_2 = threading.Thread(target=t2_job, name = 'T2')\n",
    "thread_2.start()\n",
    "thread_2.join() # 等待所有工作完成才續 GO\n",
    "\n",
    "\n",
    "print(\"all done\\n\")\n"
   ]
  },
  {
   "cell_type": "markdown",
   "metadata": {},
   "source": [
    "# Queue 佇列\n",
    "# （線程無法用return值 只能用queue回傳）"
   ]
  },
  {
   "cell_type": "code",
   "execution_count": 20,
   "metadata": {
    "collapsed": false
   },
   "outputs": [
    {
     "name": "stdout",
     "output_type": "stream",
     "text": [
      "[[1, 4, 9], [9, 16, 25], [16, 16, 16], [25, 25, 25]]\n"
     ]
    }
   ],
   "source": [
    "# 用到 queue 来存储每一个线程返回出来的值,然后再从 queue 里面拿出来值进行继续的运算\n",
    "# 線程的運算結果放在長的隊列中\n",
    "import threading\n",
    "import time\n",
    "from queue import Queue\n",
    "\n",
    "\n",
    "                             \n",
    "def job(l,q):\n",
    "    for i in range(len(l)):\n",
    "        l[i] = l[i]**2\n",
    "    q.put(l)                     # 把結過放在q裡面\n",
    "\n",
    "def multithreading():\n",
    "    q = Queue()\n",
    "    threads = []\n",
    "    data = [[1,2,3],[3,4,5],[4,4,4],[5,5,5]]\n",
    "    for i in range(4):                         # 定義4個線程\n",
    "        t = threading.Thread(target=job, args=(data[i], q))\n",
    "        t.start()\n",
    "        threads.append(t)        # 加到全部線程當中\n",
    "    for thread in threads:       # 附加主線程中 \n",
    "        thread.join()\n",
    "    results = []\n",
    "    for _ in range(4):       # 把q結果拿出來放在result裡面\n",
    "          results.append(q.get())\n",
    "    print(results)\n",
    "\n",
    "if __name__ == '__main__':\n",
    "    multithreading()                          \n",
    "\n",
    "        "
   ]
  },
  {
   "cell_type": "code",
   "execution_count": 21,
   "metadata": {
    "collapsed": false
   },
   "outputs": [
    {
     "name": "stdout",
     "output_type": "stream",
     "text": [
      "job1 1\n",
      "job1 2\n",
      "job1 3\n",
      "job1 4\n",
      "job1 5\n",
      "job1 6\n",
      "job1 7\n",
      "job1 8\n",
      "job1 9\n",
      "job1 10\n",
      "job2 20\n",
      "job2 30\n",
      "job2 40\n",
      "job2 50\n",
      "job2 60\n",
      "job2 70\n",
      "job2 80\n",
      "job2 90\n",
      "job2 100\n",
      "job2 110\n"
     ]
    }
   ],
   "source": [
    "# lock 可以帮助你锁住你想变动的值,这个值暂时不被其他线程说动用.(不讓線程同時進行)\n",
    "import threading\n",
    "\n",
    "def job1():\n",
    "    global A, lock  # 鎖住線程做完換下一個 \n",
    "    lock.acquire()  # 鎖住\n",
    "    for i in range(10):\n",
    "        A += 1\n",
    "        print('job1', A)\n",
    "    lock.release()  # 打開\n",
    "\n",
    "def job2():\n",
    "    global A, lock\n",
    "    lock.acquire()    # 鎖住\n",
    "    for i in range(10):\n",
    "        A += 10\n",
    "        print('job2', A)\n",
    "    lock.release()    # 打開\n",
    "\n",
    "if __name__ == '__main__':\n",
    "    lock = threading.Lock()\n",
    "    A = 0\n",
    "    t1 = threading.Thread(target=job1)\n",
    "    t2 = threading.Thread(target=job2)\n",
    "    t1.start()\n",
    "    t2.start()\n",
    "    t1.join()\n",
    "    t2.join()"
   ]
  },
  {
   "cell_type": "markdown",
   "metadata": {},
   "source": [
    "   # multiprocessing"
   ]
  },
  {
   "cell_type": "code",
   "execution_count": 26,
   "metadata": {
    "collapsed": false
   },
   "outputs": [
    {
     "name": "stdout",
     "output_type": "stream",
     "text": [
      "aaaa\n"
     ]
    }
   ],
   "source": [
    "import multiprocessing as mp\n",
    "def job(a,b):\n",
    "    print('aaaa')\n",
    "\n",
    "if __name__ == '__main__':\n",
    "    p1 = mp.Process(target=job,args=(1,2))\n",
    "    p1.start()\n",
    "    p1.join()"
   ]
  },
  {
   "cell_type": "code",
   "execution_count": 32,
   "metadata": {
    "collapsed": false
   },
   "outputs": [
    {
     "name": "stdout",
     "output_type": "stream",
     "text": [
      "499667166000\n"
     ]
    }
   ],
   "source": [
    "# Queun 先把每个进程运算的结果 放入queue.put(), 之后再一次次地收集所有在 queue里面的结果[queue.get()].\n",
    "import multiprocessing as mp\n",
    "\n",
    "def job(q):\n",
    "    res = 0\n",
    "    for i in range(1000):\n",
    "        res += i+i**2+i**3\n",
    "    q.put(res) # 把結果放在 q 裡面 \n",
    "\n",
    "if __name__ == '__main__':\n",
    "    q = mp.Queue()  #  要用quenu去接\n",
    "    p1 = mp.Process(target=job, args=(q,))  # q要加逗號 表示後面還有東西可進行迭代 不然會報錯\n",
    "    p2 = mp.Process(target=job, args=(q,))\n",
    "    p1.start()\n",
    "    p2.start()\n",
    "    p1.join()\n",
    "    p2.join()\n",
    "    res1 = q.get() # 用 res print 出來\n",
    "    res2 = q.get()\n",
    "    print(res1+res2)"
   ]
  },
  {
   "cell_type": "code",
   "execution_count": 34,
   "metadata": {
    "collapsed": false
   },
   "outputs": [
    {
     "name": "stdout",
     "output_type": "stream",
     "text": [
      "[0, 1, 4, 9, 16, 25, 36, 49, 64, 81]\n",
      "4\n",
      "[0, 1, 4, 9, 16, 25, 36, 49, 64, 81]\n"
     ]
    }
   ],
   "source": [
    "# pool 把所要運算的放入一個池子 python會自己定義\n",
    "# apply_async(func[, args=()[, kwds={}[, callback=None]]])  1次只能在1個進程中 若要多個則須進行迭代\n",
    "\n",
    "import multiprocessing as mp\n",
    "\n",
    "def job(x):\n",
    "    return x*x  # pool 可用return \n",
    "\n",
    "def multicore():\n",
    "    pool = mp.Pool(processes=2) # 未定義會用所有得核 processes=2 使用2核\n",
    "    # map(function,iterbale...)  取得函數計算interbale中每個元素結果\n",
    "    res = pool.map(job, range(10)) # 把函式和參數榜在一起 迭代\n",
    "\n",
    "    print(res)\n",
    "    res = pool.apply_async(job, (2,)) # 在pool中 apply_async在一個進程算一個東西（job function的 2值,（逗號要加若\"有多個值\"可進行迭代））\n",
    "    print(res.get())\n",
    "    multi_res =[pool.apply_async(job, (i,)) for i in range(10)] #apply_async一次在一個進程算一個東西 若有多個東西運算則要進行迭代 list\n",
    "    print([res.get() for res in multi_res]) # 把迭代中的東西拿出來\n",
    "\n",
    "if __name__ == '__main__':\n",
    "    multicore()\n"
   ]
  },
  {
   "cell_type": "code",
   "execution_count": 40,
   "metadata": {
    "collapsed": false
   },
   "outputs": [
    {
     "name": "stdout",
     "output_type": "stream",
     "text": [
      "1\n",
      "2\n",
      "3\n",
      "4\n",
      "5\n",
      "6\n",
      "7\n",
      "8\n",
      "9\n",
      "10\n",
      "13\n",
      "16\n",
      "19\n",
      "22\n",
      "25\n",
      "28\n",
      "31\n",
      "34\n",
      "37\n",
      "40\n"
     ]
    }
   ],
   "source": [
    "# look 鎖住必免互相干擾\n",
    "import multiprocessing as mp\n",
    "import time\n",
    "\n",
    "def job(v, num, l):\n",
    "    l.acquire()\n",
    "    for _ in range(10): # 做10次循環\n",
    "        time.sleep(0.1)\n",
    "        v.value += num\n",
    "        print(v.value)\n",
    "    l.release()\n",
    "\n",
    "def multicore():\n",
    "    l = mp.Lock()  # 鎖住避免互相干擾\n",
    "    v = mp.Value('i', 0) # 'i'= integer 形式\n",
    "    p1 = mp.Process(target=job, args=(v, 1, l)) # num = 1\n",
    "    p2 = mp.Process(target=job, args=(v, 3, l)) # num = 3\n",
    "    p1.start()\n",
    "    p2.start()\n",
    "    p1.join()\n",
    "    p2.join()\n",
    "\n",
    "if __name__ == '__main__':\n",
    "    multicore()"
   ]
  },
  {
   "cell_type": "code",
   "execution_count": 43,
   "metadata": {
    "collapsed": false
   },
   "outputs": [
    {
     "name": "stdout",
     "output_type": "stream",
     "text": [
      "parent process 12011\n",
      "\n",
      "Run task Allen-21724\n",
      "Run task Frank-21725\n",
      "Run task Marlon-21722\n",
      "Run task Lee-21723\n",
      "\n",
      "\n",
      "\n",
      "Waiting for all subprocesses done...\n",
      "Task Frank runs 0.42 seconds.\n",
      "Task Lee, runs 0.86 seconds.\n",
      "Task Marlon runs 22.21 seconds.\n",
      "Task Allen runs 23.37 seconds.\n",
      "All subprocesses done.\n"
     ]
    }
   ],
   "source": [
    "import multiprocessing\n",
    "import os, time, random\n",
    "\n",
    "def Lee():\n",
    "    print (\"\\nRun task Lee-%s\" %(os.getpid()))#os.getpid()获取当前的进程的ID\n",
    "    start = time.time()\n",
    "    time.sleep(random.random() * 10) #random.random()随机生成0-1之间的小数\n",
    "    end = time.time()\n",
    "    print ('Task Lee, runs %0.2f seconds.' %(end - start))\n",
    "\n",
    "def Marlon():\n",
    "    print (\"\\nRun task Marlon-%s\" %(os.getpid()))\n",
    "    start = time.time()\n",
    "    time.sleep(random.random() * 40)\n",
    "    end=time.time()\n",
    "    print ('Task Marlon runs %0.2f seconds.' %(end - start))\n",
    "\n",
    "def Allen():\n",
    "    print (\"\\nRun task Allen-%s\" %(os.getpid()))\n",
    "    start = time.time()\n",
    "    time.sleep(random.random() * 30)\n",
    "    end = time.time()\n",
    "    print ('Task Allen runs %0.2f seconds.' %(end - start))\n",
    "\n",
    "def Frank():\n",
    "    print (\"\\nRun task Frank-%s\" %(os.getpid()))\n",
    "    start = time.time()\n",
    "    time.sleep(random.random() * 20)\n",
    "    end = time.time()\n",
    "    print ('Task Frank runs %0.2f seconds.' %(end - start))\n",
    "        \n",
    "if __name__=='__main__':\n",
    "    function_list=  [Lee, Marlon, Allen, Frank] \n",
    "    print (\"parent process %s\" %(os.getpid()))\n",
    "\n",
    "    pool=multiprocessing.Pool(4)\n",
    "    for func in function_list:\n",
    "        pool.apply_async(func)  #Pool执行函数，apply执行函数,当有一个进程执行完毕后，会添加一个新的进程到pool中\n",
    "\n",
    "    print ('Waiting for all subprocesses done...')\n",
    "1    pool.close()\n",
    "    pool.join()    #调用join之前，一定要先调用close() 函数，否则会出错, close()执行后不会有新的进程加入到pool,join函数等待素有子进程结束\n",
    "    print ('All subprocesses done.')"
   ]
  }
 ],
 "metadata": {
  "anaconda-cloud": {},
  "kernelspec": {
   "display_name": "Python [default]",
   "language": "python",
   "name": "python3"
  },
  "language_info": {
   "codemirror_mode": {
    "name": "ipython",
    "version": 3
   },
   "file_extension": ".py",
   "mimetype": "text/x-python",
   "name": "python",
   "nbconvert_exporter": "python",
   "pygments_lexer": "ipython3",
   "version": "3.5.2"
  }
 },
 "nbformat": 4,
 "nbformat_minor": 2
}
