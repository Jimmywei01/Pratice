{
 "cells": [
  {
   "cell_type": "code",
   "execution_count": 5,
   "metadata": {
    "collapsed": false
   },
   "outputs": [
    {
     "name": "stdout",
     "output_type": "stream",
     "text": [
      "hi\n",
      "hi\n",
      "hi\n",
      "None\n",
      "hi\n",
      "hi\n",
      "hi\n",
      "None\n"
     ]
    }
   ],
   "source": [
    "def hi():\n",
    "    for i in range(3):\n",
    "        print('hi')\n",
    "\n",
    "print(hi())\n",
    "\n",
    "\n",
    "# 傳入參數 n \n",
    "def hi(n):\n",
    "    for i in range(n):\n",
    "        print('hi')\n",
    "print(hi(3))"
   ]
  }
 ],
 "metadata": {
  "anaconda-cloud": {},
  "kernelspec": {
   "display_name": "Python [conda root]",
   "language": "python",
   "name": "conda-root-py"
  },
  "language_info": {
   "codemirror_mode": {
    "name": "ipython",
    "version": 3
   },
   "file_extension": ".py",
   "mimetype": "text/x-python",
   "name": "python",
   "nbconvert_exporter": "python",
   "pygments_lexer": "ipython3",
   "version": "3.5.2"
  }
 },
 "nbformat": 4,
 "nbformat_minor": 1
}
