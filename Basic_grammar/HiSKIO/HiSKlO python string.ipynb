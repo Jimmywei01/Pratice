{
 "cells": [
  {
   "cell_type": "markdown",
   "metadata": {},
   "source": [
    "##  string 格式化"
   ]
  },
  {
   "cell_type": "code",
   "execution_count": null,
   "metadata": {
    "collapsed": true
   },
   "outputs": [],
   "source": [
    "print('dddd%d,hhhh%s'%(123,'apple'),(5555))"
   ]
  },
  {
   "cell_type": "code",
   "execution_count": 7,
   "metadata": {
    "collapsed": false
   },
   "outputs": [
    {
     "name": "stdout",
     "output_type": "stream",
     "text": [
      "hex a=b115,fff a=45333,oct a= 130425\n"
     ]
    }
   ],
   "source": [
    "a=45333\n",
    "print('hex a=%x,fff a=%d,oct a= %o'%(a,a,a))"
   ]
  },
  {
   "cell_type": "code",
   "execution_count": 10,
   "metadata": {
    "collapsed": false
   },
   "outputs": [
    {
     "name": "stdout",
     "output_type": "stream",
     "text": [
      "{ddd},{ggg}\n",
      "Taipei,fff\n"
     ]
    }
   ],
   "source": [
    "b = '{ddd},{ggg}'\n",
    "print(b)\n",
    "print(b.format(ddd=\"Taipei\",ggg=\"fff\"))"
   ]
  },
  {
   "cell_type": "code",
   "execution_count": 12,
   "metadata": {
    "collapsed": false
   },
   "outputs": [
    {
     "name": "stdout",
     "output_type": "stream",
     "text": [
      "fff,99,male\n"
     ]
    }
   ],
   "source": [
    "a='{姓名},{年齡},{性別}'\n",
    "print(a.format(姓名=\"fff\",年齡=99,性別='male'))"
   ]
  },
  {
   "cell_type": "code",
   "execution_count": 15,
   "metadata": {
    "collapsed": false
   },
   "outputs": [
    {
     "name": "stdout",
     "output_type": "stream",
     "text": [
      "姓名=aaa,年齡=99,性別=male\n"
     ]
    }
   ],
   "source": [
    "a=\"aaa\"\n",
    "b=99\n",
    "c='male'\n",
    "print('姓名=%s,年齡=%d,性別=%s'%(a,b,c))"
   ]
  },
  {
   "cell_type": "code",
   "execution_count": 17,
   "metadata": {
    "collapsed": false
   },
   "outputs": [
    {
     "name": "stdout",
     "output_type": "stream",
     "text": [
      "5.100000+2.300000=7.400000\n"
     ]
    }
   ],
   "source": [
    "a=5.10\n",
    "b=2.30\n",
    "c=7.40\n",
    "print('%f+%f=%f'%(a,b,c))"
   ]
  },
  {
   "cell_type": "code",
   "execution_count": 18,
   "metadata": {
    "collapsed": false
   },
   "outputs": [
    {
     "name": "stdout",
     "output_type": "stream",
     "text": [
      "會員編號:00123456\n"
     ]
    }
   ],
   "source": [
    "print(\"會員編號:%(#)08d\"%{\"#\":123456}) # 08d 補0的意思"
   ]
  },
  {
   "cell_type": "code",
   "execution_count": 20,
   "metadata": {
    "collapsed": false
   },
   "outputs": [
    {
     "name": "stdout",
     "output_type": "stream",
     "text": [
      "123.456000\n"
     ]
    }
   ],
   "source": [
    "print(\"%6f\"%(123.456))  # 後面補0"
   ]
  },
  {
   "cell_type": "code",
   "execution_count": 22,
   "metadata": {
    "collapsed": false,
    "scrolled": true
   },
   "outputs": [
    {
     "name": "stdout",
     "output_type": "stream",
     "text": [
      "$ 987.98\n"
     ]
    }
   ],
   "source": [
    "money=987.98\n",
    "print(\"$%*.2f\"%(7,money))  # *空白"
   ]
  },
  {
   "cell_type": "code",
   "execution_count": 126,
   "metadata": {
    "collapsed": false
   },
   "outputs": [
    {
     "name": "stdout",
     "output_type": "stream",
     "text": [
      "台灣大大 台灣\n",
      "台灣大大有台灣\n"
     ]
    }
   ],
   "source": [
    "#要加s\n",
    "short ={\"NTU\":'台灣大大', \"TE\":'台灣'}\n",
    "print(\"%(NTU)s\"%short,\"%(TE)s\"%short)\n",
    "type(short)\n",
    "\n",
    "print(\"%(NTU)s有%(TE)s\"%short)"
   ]
  },
  {
   "cell_type": "code",
   "execution_count": 38,
   "metadata": {
    "collapsed": false
   },
   "outputs": [
    {
     "name": "stdout",
     "output_type": "stream",
     "text": [
      "<class 'int'> 64\n",
      "52\n",
      "100\n"
     ]
    }
   ],
   "source": [
    "stl = \"64\"\n",
    "print(int,stl)\n",
    "print(int(stl,8))  # int 64 轉8進位\n",
    "print(int(stl,16))"
   ]
  },
  {
   "cell_type": "code",
   "execution_count": 40,
   "metadata": {
    "collapsed": false
   },
   "outputs": [
    {
     "data": {
      "text/plain": [
       "str"
      ]
     },
     "execution_count": 40,
     "metadata": {},
     "output_type": "execute_result"
    }
   ],
   "source": [
    "a= 123\n",
    "type(a)\n",
    "type(str(a))\n"
   ]
  },
  {
   "cell_type": "code",
   "execution_count": 42,
   "metadata": {
    "collapsed": false
   },
   "outputs": [
    {
     "name": "stdout",
     "output_type": "stream",
     "text": [
      "234t\n"
     ]
    }
   ],
   "source": [
    "# 數字型態不能做切片 可用數學計算的方法取出 或  先用str() 函數轉換為字串\n",
    "\n",
    "t = \"1234trkt\"\n",
    "tuple=t[1:5]\n",
    "print(tuple)"
   ]
  },
  {
   "cell_type": "code",
   "execution_count": null,
   "metadata": {
    "collapsed": true
   },
   "outputs": [],
   "source": [
    "# 函式 別人寫好的小程式 ex.str()\n",
    "# 方法 函式裡面的附屬 str.strip()"
   ]
  },
  {
   "cell_type": "code",
   "execution_count": 53,
   "metadata": {
    "collapsed": false
   },
   "outputs": [
    {
     "name": "stdout",
     "output_type": "stream",
     "text": [
      "<built-in method strip of str object at 0x7f0e116dd0f0>\n",
      "ggg\n",
      "  ggg\n",
      "ggg   \n",
      "\n",
      "9\n",
      "00  ggg   \n",
      "\n"
     ]
    }
   ],
   "source": [
    "s = '  ggg   \\n'\n",
    "print(s.strip)\n",
    "print(s.strip())\n",
    "print(s.rstrip())\n",
    "print(s.lstrip())\n",
    "\n",
    "# string.zfill(width) 字串前面補0 直到string變數的長度等於width引數設定的長度\n",
    "print(len(s))\n",
    "print(s.zfill(11))"
   ]
  },
  {
   "cell_type": "code",
   "execution_count": 58,
   "metadata": {
    "collapsed": false,
    "scrolled": true
   },
   "outputs": [
    {
     "name": "stdout",
     "output_type": "stream",
     "text": [
      "SSDGJGJG\n",
      "Ssdgjgjg\n"
     ]
    }
   ],
   "source": [
    "a='ssdGJGJG'\n",
    "print(a.upper())\n",
    "print(a.title())"
   ]
  },
  {
   "cell_type": "code",
   "execution_count": 67,
   "metadata": {
    "collapsed": false
   },
   "outputs": [
    {
     "name": "stdout",
     "output_type": "stream",
     "text": [
      "there are 10 types of people.\n",
      "those who know binary and those who dont.\n",
      "I said :'there are 10 types of people.'.\n",
      "I also said:'those who know binary and those who dont.'.\n",
      "isnot that joke so funny? True\n",
      "this is the left side of...a string with a right side.\n"
     ]
    }
   ],
   "source": [
    "# 再句子中 加入格式化參數\n",
    "x=\"there are %d types of people.\" % 10\n",
    "binary = \"binary\"\n",
    "do_not = \"dont\"\n",
    "y = \"those who know %s and those who %s.\" % (binary,do_not)\n",
    "\n",
    "print(x)\n",
    "print(y)\n",
    "\n",
    "# %r 用来獲得 debug 訊息，而其它格式符则是用来向用户显示输出的。\n",
    "print(\"I said :%r.\" % x)\n",
    "print(\"I also said:'%s'.\" % y)\n",
    "\n",
    "\n",
    "hilarious = True\n",
    "joke_evaluation = \"isnot that joke so funny? %r\"\n",
    "print(joke_evaluation % hilarious)\n",
    "\n",
    "w = \"this is the left side of...\"\n",
    "e = \"a string with a right side.\"\n",
    "print(w+e)"
   ]
  },
  {
   "cell_type": "code",
   "execution_count": 72,
   "metadata": {
    "collapsed": false
   },
   "outputs": [
    {
     "name": "stdout",
     "output_type": "stream",
     "text": [
      "This is a pen\n"
     ]
    },
    {
     "data": {
      "text/plain": [
       "False"
      ]
     },
     "execution_count": 72,
     "metadata": {},
     "output_type": "execute_result"
    }
   ],
   "source": [
    "a = \"This is a pen\"\n",
    "print(a)\n",
    "a.startswith('this') # 判斷是否為開始字元\n",
    "\n"
   ]
  },
  {
   "cell_type": "code",
   "execution_count": 76,
   "metadata": {
    "collapsed": false
   },
   "outputs": [
    {
     "name": "stdout",
     "output_type": "stream",
     "text": [
      "b\n",
      "is not a number\n",
      "b\n",
      "is not a number\n",
      "b\n",
      "is not a number\n",
      "b\n",
      "is not a number\n",
      "4\n",
      "n=4\n"
     ]
    }
   ],
   "source": [
    "# 讓使用者重複輸入 直到整數才跳出迴圈\n",
    "\n",
    "while True:\n",
    "    n = input()\n",
    "    if n.isdigit():  # 检测字符串是否只由数字组成\n",
    "        print(\"n=%s\"%n)\n",
    "        break\n",
    "    else:\n",
    "        print(\"is not a number\")\n"
   ]
  },
  {
   "cell_type": "code",
   "execution_count": 95,
   "metadata": {
    "collapsed": false
   },
   "outputs": [
    {
     "name": "stdout",
     "output_type": "stream",
     "text": [
      "are\n",
      "['are', 'you', 'kind', 'me']\n",
      "['are you kind me']\n",
      "01_ggg.txt\n",
      "01\n",
      "01\n"
     ]
    }
   ],
   "source": [
    "# split\n",
    "string = 'are you kind me'\n",
    "a = string.split()\n",
    "print(a[0])\n",
    "print(string.split())\n",
    "print(string.split(\",\"))\n",
    "\n",
    "f = '01_ggg.txt'\n",
    "print(f)\n",
    "a= f.partition(\"_\")\n",
    "print(a[0])\n",
    "print(f.partition(\"_\")[0])\n"
   ]
  },
  {
   "cell_type": "code",
   "execution_count": 104,
   "metadata": {
    "collapsed": false
   },
   "outputs": [
    {
     "name": "stdout",
     "output_type": "stream",
     "text": [
      "a[0]:d\n",
      "a[1]:a\n",
      "a[2]:f\n",
      "a[3]:d\n",
      "a[4]:j\n",
      "a[5]:k\n",
      "a[6]:h\n",
      "a[7]:k\n",
      "a[8]:j\n",
      "a[9]:s\n",
      "a[10]:e\n",
      "a[11]:e\n",
      "a[12]:f\n",
      "a[13]:j\n",
      "a[14]:j\n",
      "a[15]:d\n",
      "a[16]:j\n",
      "a[17]:a\n",
      "a[18]:a\n",
      "a[19]:a\n",
      "a[20]:j\n",
      "0\n"
     ]
    }
   ],
   "source": [
    "# count  \n",
    "# str.count(sub[,start[,end]])\n",
    "a = \"dafdjkhkjseefjjdjaaaj\"\n",
    "#print(s.count('a',6))  # (要計算的數字,開始位置) \n",
    "\n",
    "\n",
    "for i in range(len(a)):\n",
    "    #print(i)\n",
    "    print('a[%d]:%s'%(i,a[i]))\n",
    "    \n",
    "    \n",
    "print(s.count('%s',0,10))"
   ]
  },
  {
   "cell_type": "code",
   "execution_count": 130,
   "metadata": {
    "collapsed": false
   },
   "outputs": [
    {
     "name": "stdout",
     "output_type": "stream",
     "text": [
      "['wel', 'klv', 'jkldkjflkj', 'lkjlkj']\n",
      "5\n",
      "9\n",
      "wef xfv jxfdxjffxj fxjfxj\n"
     ]
    }
   ],
   "source": [
    "line = \"wel klv jkldkjflkj lkjlkj\"\n",
    "print(line.split())\n",
    "print(line.count('j'))\n",
    "print(line.find('k',6))\n",
    "print(line.replace('k','x').replace('l','f'))"
   ]
  },
  {
   "cell_type": "code",
   "execution_count": 118,
   "metadata": {
    "collapsed": false
   },
   "outputs": [
    {
     "name": "stdout",
     "output_type": "stream",
     "text": [
      "jjjj;ddd;aaaaa\n",
      "jjjjdddaaaaa\n"
     ]
    }
   ],
   "source": [
    "# 要是字串才能join\n",
    "\n",
    "list = ['jjjj','ddd','aaaaa',]\n",
    "\n",
    "a = \";\".join(list)\n",
    "print(a)\n",
    "\n",
    "b = \"\".join(list)\n",
    "print(b)"
   ]
  },
  {
   "cell_type": "code",
   "execution_count": 124,
   "metadata": {
    "collapsed": false
   },
   "outputs": [
    {
     "name": "stdout",
     "output_type": "stream",
     "text": [
      "This is a apple\n",
      "['this', 'is', 'a', 'apple']\n",
      "['This', 'Is', 'A', 'Apple']\n",
      "ThisIsAApple\n"
     ]
    }
   ],
   "source": [
    "# split & join 可以與 list 配合 將所有的字首轉大寫 (capitalize)\n",
    "s = 'this is a apple'\n",
    "a = s.capitalize()\n",
    "print(a)\n",
    "\n",
    "print([i for i in s.split()])\n",
    "\n",
    "print([i.capitalize() for i in s.split()]) # 先切開再轉大寫\n",
    "\n",
    "print(\"\".join([i.capitalize() for i in s.split()])) # 再用join合併"
   ]
  }
 ],
 "metadata": {
  "anaconda-cloud": {},
  "kernelspec": {
   "display_name": "Python [conda root]",
   "language": "python",
   "name": "conda-root-py"
  },
  "language_info": {
   "codemirror_mode": {
    "name": "ipython",
    "version": 3
   },
   "file_extension": ".py",
   "mimetype": "text/x-python",
   "name": "python",
   "nbconvert_exporter": "python",
   "pygments_lexer": "ipython3",
   "version": "3.5.2"
  }
 },
 "nbformat": 4,
 "nbformat_minor": 1
}
