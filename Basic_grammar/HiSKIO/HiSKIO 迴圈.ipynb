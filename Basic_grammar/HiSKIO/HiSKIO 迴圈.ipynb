{
 "cells": [
  {
   "cell_type": "code",
   "execution_count": 3,
   "metadata": {
    "collapsed": false
   },
   "outputs": [
    {
     "name": "stdout",
     "output_type": "stream",
     "text": [
      "1\n",
      "2\n",
      "3\n",
      "4\n",
      "5\n",
      "6\n",
      "7\n",
      "8\n",
      "9\n",
      "+++++++++++++++++++++++\n",
      "1\n",
      "3\n",
      "5\n",
      "7\n",
      "9\n"
     ]
    }
   ],
   "source": [
    "# 變數序列(iterable 迭代) 如 list tuple range()\n",
    "\n",
    "for i in range(1,10):\n",
    "    print(i)\n",
    "print('+++++++++++++++++++++++')    \n",
    "for i in range(1,10,2):\n",
    "    print(i)"
   ]
  },
  {
   "cell_type": "code",
   "execution_count": 7,
   "metadata": {
    "collapsed": false
   },
   "outputs": [
    {
     "name": "stdout",
     "output_type": "stream",
     "text": [
      "2\n",
      "0123\n"
     ]
    }
   ],
   "source": [
    "n = eval(input())\n",
    "t = 0\n",
    "for i in range(n+1):\n",
    "    t +=i\n",
    "    print(i,end=\"\")\n",
    "print(t)\n"
   ]
  },
  {
   "cell_type": "code",
   "execution_count": 11,
   "metadata": {
    "collapsed": false,
    "scrolled": true
   },
   "outputs": [
    {
     "name": "stdout",
     "output_type": "stream",
     "text": [
      "1+2+3+...+100 = 5050\n",
      "1\n",
      "2\n",
      "4\n",
      "7\n",
      "11\n",
      "16\n",
      "22\n",
      "29\n",
      "37\n",
      "46\n",
      "56\n",
      "67\n",
      "79\n",
      "92\n",
      "106\n",
      "121\n",
      "137\n",
      "154\n",
      "172\n",
      "191\n",
      "211\n",
      "232\n",
      "254\n",
      "277\n",
      "301\n",
      "326\n",
      "352\n",
      "379\n",
      "407\n",
      "436\n",
      "466\n",
      "497\n",
      "529\n",
      "562\n",
      "596\n",
      "631\n",
      "667\n",
      "704\n",
      "742\n",
      "781\n",
      "821\n",
      "862\n",
      "904\n",
      "947\n",
      "991\n",
      "1036\n",
      "1082\n",
      "1129\n",
      "1177\n",
      "1226\n",
      "1276\n",
      "1327\n",
      "1379\n",
      "1432\n",
      "1486\n",
      "1541\n",
      "1597\n",
      "1654\n",
      "1712\n",
      "1771\n",
      "1831\n",
      "1892\n",
      "1954\n",
      "2017\n",
      "2081\n",
      "2146\n",
      "2212\n",
      "2279\n",
      "2347\n",
      "2416\n",
      "2486\n",
      "2557\n",
      "2629\n",
      "2702\n",
      "2776\n",
      "2851\n",
      "2927\n",
      "3004\n",
      "3082\n",
      "3161\n",
      "3241\n",
      "3322\n",
      "3404\n",
      "3487\n",
      "3571\n",
      "3656\n",
      "3742\n",
      "3829\n",
      "3917\n",
      "4006\n",
      "4096\n",
      "4187\n",
      "4279\n",
      "4372\n",
      "4466\n",
      "4561\n",
      "4657\n",
      "4754\n",
      "4852\n",
      "4951\n"
     ]
    }
   ],
   "source": [
    "\n",
    "sum = 0\n",
    "count = 0\n",
    "while count<100:\n",
    "    count +=1\n",
    "    sum+=count\n",
    "else:\n",
    "    print(\"1+2+3+...+%d = %d\"%(count,sum))\n",
    "   \n",
    "count = 1    \n",
    "for i in range(100):\n",
    "    count+=i\n",
    "    print(count)"
   ]
  },
  {
   "cell_type": "code",
   "execution_count": 18,
   "metadata": {
    "collapsed": false,
    "scrolled": false
   },
   "outputs": [
    {
     "name": "stdout",
     "output_type": "stream",
     "text": [
      "70\n",
      "80\n",
      "90\n",
      "-1\n",
      "240\n",
      "80.0\n",
      "0\n",
      "3\n"
     ]
    }
   ],
   "source": [
    "score = 0\n",
    "total = 0\n",
    "ct = -1\n",
    "\n",
    "MaxVal = 0 # 目前已知最大值\n",
    "MaxPos = 0 # 目前已知最大值位置\n",
    "\n",
    "while score!=-1:\n",
    "    \n",
    "    total+=score\n",
    "    ct+=1\n",
    "    # 如果 本次輸入 大於 目前已知最大值的話 \n",
    "    if score > MaxVal :\n",
    "    # 就將 本次輸入 設定成 目前已知最大值\n",
    "       Maxval = score\n",
    "    # 順便 讓程式 記住 本次輸入是第幾次\n",
    "       MaxPos=ct\n",
    "    \n",
    "      \n",
    "    score = eval(input()) # 輸入時鮮判定是否為-1\n",
    "\n",
    "print(total)\n",
    "print(total/ct)\n",
    "print(MaxVal)\n",
    "print(MaxPos)"
   ]
  },
  {
   "cell_type": "code",
   "execution_count": 45,
   "metadata": {
    "collapsed": false
   },
   "outputs": [
    {
     "name": "stdout",
     "output_type": "stream",
     "text": [
      "********\n",
      "********\n",
      "********\n",
      "++++++++++++++++++\n",
      "4\n",
      "4\n",
      "****\n",
      "****\n",
      "****\n",
      "****\n",
      "++++++++++++++++++\n",
      "*\n",
      "**\n",
      "***\n",
      "****\n",
      "*****\n",
      "++++++++++++++++++\n",
      "*****\n",
      "****\n",
      "***\n",
      "**\n",
      "*\n",
      "++++++++++++++++++\n",
      "4\n",
      "0*0=0\t1*0=0\t2*0=0\t3*0=0\t\n",
      "0*1=0\t1*1=1\t2*1=2\t3*1=3\t\n",
      "0*2=0\t1*2=2\t2*2=4\t3*2=6\t\n",
      "0*3=0\t1*3=3\t2*3=6\t3*3=9\t\n",
      "++++++++++++++++++\n",
      "4\n",
      "fct 3\n"
     ]
    }
   ],
   "source": [
    "# 3: 印幾列\n",
    "for j in range(3):\n",
    "    # j 現在印第幾列\n",
    "    # 8: 現在這列 印幾個*號\n",
    "    for i in range(8):\n",
    "        # i 現在印到第幾個 *號\n",
    "        print('*',end = \"\")\n",
    "    print()\n",
    "    \n",
    "print(\"++++++++++++++++++\")    \n",
    "n = eval(input())\n",
    "l = eval(input())\n",
    "# 3: 印幾列\n",
    "for j in range(n):\n",
    "    # j 現在印第幾列\n",
    "    # 8: 現在這列 印幾個*號\n",
    "    for i in range(l):\n",
    "        # i 現在印到第幾個 *號\n",
    "        print('*',end = \"\")\n",
    "    print()\n",
    "    \n",
    "print(\"++++++++++++++++++\") \n",
    "\n",
    "# 5:印幾列\n",
    "for j in range(5):\n",
    "    # j 現在印第幾列 0~4\n",
    "    # j   = 0,1,2,3,4\n",
    "    # j+1 = 1,2,3,4,5\n",
    "    # 8: 現在這列 印幾個*號\n",
    "    for i in range(j+1):\n",
    "        # i 現在印到第幾個 *號\n",
    "        print('*',end=\"\")\n",
    "    print()\n",
    "    \n",
    "print(\"++++++++++++++++++\") \n",
    "\n",
    "# 5:印幾列\n",
    "for j in range(5):\n",
    "    # j 現在印第幾列 0~4\n",
    "    # j   = 0,1,2,3,4\n",
    "    # 5-j = 5,4,3,2,1\n",
    "    # 8: 現在這列 印幾個*號\n",
    "    for i in range(5-j):\n",
    "        print('*',end=\"\")\n",
    "    print()\n",
    "\n",
    "\n",
    "print(\"++++++++++++++++++\")    \n",
    "n = eval(input())\n",
    "\n",
    "# 3: 印幾列\n",
    "for j in range(n):\n",
    "    # j 現在印第幾列\n",
    "    # 8: 現在這列 印幾個*號\n",
    "    for i in range(n):\n",
    "        # i 現在印到第幾個 *號\n",
    "        print(i,'*',j,'=',i*j ,end = \"\\t\",sep='')\n",
    "    print()\n",
    "\n",
    "print(\"++++++++++++++++++\")\n",
    "\n",
    "# 建議把空白跟星號當一組來思考，就有機會做成上面有間隔的金字塔。\n",
    " # 直角三角形"
   ]
  },
  {
   "cell_type": "code",
   "execution_count": 13,
   "metadata": {
    "collapsed": false
   },
   "outputs": [
    {
     "name": "stdout",
     "output_type": "stream",
     "text": [
      "6\n",
      "6\n",
      "fct 4\n",
      "6 is not prime\n",
      "+++++++++++++++++++++++++++\n"
     ]
    }
   ],
   "source": [
    "# 質數 ： 1 與 自己 可整除 的數字\n",
    "# 7 = {1,7} 質數\n",
    "# 10 = {1,2,5,10} 非質數\n",
    "\n",
    "n= eval(input())\n",
    "fct = 0\n",
    "for i in range(1,n+1): # ex.n = 10 \n",
    "    # 如果i可以整除n\n",
    "    # 就代表 這個 i 是 n的因數\n",
    "     if n%i == 0 :\n",
    "            fct+=1\n",
    "print(i)\n",
    "print('fct',fct)\n",
    "\n",
    "if fct == 2 :\n",
    "    print(n,'is prime')\n",
    "else:\n",
    "    print(n,'is not prime')\n",
    "    \n",
    "print('+++++++++++++++++++++++++++')\n"
   ]
  },
  {
   "cell_type": "code",
   "execution_count": 15,
   "metadata": {
    "collapsed": false,
    "scrolled": true
   },
   "outputs": [
    {
     "name": "stdout",
     "output_type": "stream",
     "text": [
      "6\n",
      "6 is prime\n"
     ]
    }
   ],
   "source": [
    "# 印出100 中所有變數  有問題\n",
    "n= eval(input())\n",
    "\n",
    "num = []\n",
    "for i in range(1,n+1): # ex.n = 10 \n",
    "    fct = 0\n",
    "    #print(i)\n",
    "    for j in range(2,i):\n",
    "        #print(j)\n",
    "    # 如果i可以整除n\n",
    "    # 就代表 這個 i 是 n的因數\n",
    "        #print(j)\n",
    "        if i%j == 0 :\n",
    "            fct+=1\n",
    "            \n",
    "        else:\n",
    "              num.append(i)\n",
    "# print(i)\n",
    "# print('fct',fct)\n",
    "\n",
    "if fct == 2 :\n",
    "    print(n,'is prime')\n",
    "    \n",
    "    \n",
    "    \n",
    "    \n",
    "\n",
    "    "
   ]
  },
  {
   "cell_type": "code",
   "execution_count": 13,
   "metadata": {
    "collapsed": false
   },
   "outputs": [
    {
     "name": "stdout",
     "output_type": "stream",
     "text": [
      "[1, 2, 3, 5, 7, 11, 13, 17, 19, 23, 29, 31, 37, 41, 43, 47, 53, 59, 61, 67, 71, 73, 79, 83, 89, 97]\n"
     ]
    }
   ],
   "source": [
    "num=[];\n",
    "\n",
    "for i in range(1,101):\n",
    "\n",
    "   for j in range(2,i):\n",
    "      if(i%j==0):\n",
    "         break\n",
    "   else:\n",
    "      num.append(i)\n",
    "print(num)"
   ]
  },
  {
   "cell_type": "code",
   "execution_count": null,
   "metadata": {
    "collapsed": true
   },
   "outputs": [],
   "source": [
    "    for i in range(1,n+1): # ex.n = 10 \n",
    "    # 如果i可以整除n\n",
    "    # 就代表 這個 i 是 n的因數\n",
    "     if n%i == 0 in  :\n",
    "           a"
   ]
  },
  {
   "cell_type": "code",
   "execution_count": 86,
   "metadata": {
    "collapsed": false
   },
   "outputs": [
    {
     "name": "stdout",
     "output_type": "stream",
     "text": [
      "333\n",
      "333\n",
      "rrr\n",
      "rrr\n",
      "q\n",
      "q\n"
     ]
    }
   ],
   "source": [
    "while True:\n",
    "    n = input()\n",
    "    print(n)\n",
    "    if n == 'q':\n",
    "        break\n",
    "    \n",
    "        \n"
   ]
  },
  {
   "cell_type": "code",
   "execution_count": 90,
   "metadata": {
    "collapsed": false
   },
   "outputs": [
    {
     "name": "stdout",
     "output_type": "stream",
     "text": [
      "9\n",
      "floor 1\n",
      "floor 2\n",
      "floor 3\n",
      "floor 5\n",
      "floor 6\n",
      "floor 7\n",
      "floor 8\n",
      "floor 9\n"
     ]
    }
   ],
   "source": [
    "f = eval(input())\n",
    "\n",
    "for i in range(1,f+1):\n",
    "    if i==4:\n",
    "        continue\n",
    "    print('floor',i)\n"
   ]
  },
  {
   "cell_type": "code",
   "execution_count": 99,
   "metadata": {
    "collapsed": false
   },
   "outputs": [
    {
     "name": "stdout",
     "output_type": "stream",
     "text": [
      "1 2 4 5 7 8 10 11 14 16 17 19 20 22 25 26 28 29 40 41 44 46 47 49 50 52 55 56 58 59 61 62 64 65 67 68 70 71 74 76 77 79 80 82 85 86 88 89 91 92 94 95 97 98 100 "
     ]
    }
   ],
   "source": [
    "i = 0 # 設定初始條件\n",
    "\n",
    "#while i < 100: # 設定初始條件\n",
    "    \n",
    "for i in range(100):  # 設定執行條件\n",
    "    i+=1           # 設定 i 的調整條件\n",
    "    if(i%3 == 0 or (i-30<10 and i-30 > 0) or ((i-3)%10)==0):\n",
    "        \n",
    "    # i = 31   31%3==10.33 or (1<10 and 1>0) or (28%10)=2.8)\n",
    "    # i 值介於 30-39 的話舊 continue\n",
    "    \n",
    "        continue # 所有包含3的整數都跳過\n",
    "    print(i,end=' ')\n",
    "\n"
   ]
  },
  {
   "cell_type": "code",
   "execution_count": 1,
   "metadata": {
    "collapsed": false
   },
   "outputs": [
    {
     "name": "stdout",
     "output_type": "stream",
     "text": [
      "66\n",
      "1 < ? < 100\n",
      "55\n",
      "wrong answer, guess larger\n",
      "55 < ? < 100\n",
      "77\n",
      "wrong answer, guess smaller\n",
      "55 < ? < 77\n",
      "66\n",
      "bingo answer is 66\n"
     ]
    }
   ],
   "source": [
    "# 終級密碼\n",
    "import time\n",
    "import random\n",
    "\n",
    "#guess = random.sample(range(1:101,1))\n",
    "\n",
    "min = 1\n",
    "max = 100\n",
    "count = 0\n",
    "#guess = random.randint(min, max)\n",
    "#print(guess) #for debugging\n",
    "guess = int(input())\n",
    "\n",
    "while True:\n",
    "\t#print(\"目前猜了\",count,\"次\")\n",
    "\tcount = count + 1\n",
    "\tprint(min, \"< ? <\", max)\n",
    "\tkeyin = int(input())\n",
    "\t\n",
    "\tif keyin not in range(min+1, max):\n",
    "\t\tprint(\"range error\")\n",
    "\t\tcontinue\n",
    "\t\n",
    "\tif keyin == guess:\n",
    "\t\tprint(\"bingo answer is\", guess)\n",
    "\t\t#print(\"總共猜了\",count,\"次\")\n",
    "\t\tbreak\n",
    "\telif keyin < guess:\n",
    "\t\tmin = keyin\t\t\n",
    "\t\tprint(\"wrong answer, guess larger\")\n",
    "\telse:\n",
    "\t\tmax = keyin;\n",
    "\t\tprint(\"wrong answer, guess smaller\")"
   ]
  }
 ],
 "metadata": {
  "anaconda-cloud": {},
  "kernelspec": {
   "display_name": "Python [conda root]",
   "language": "python",
   "name": "conda-root-py"
  },
  "language_info": {
   "codemirror_mode": {
    "name": "ipython",
    "version": 3
   },
   "file_extension": ".py",
   "mimetype": "text/x-python",
   "name": "python",
   "nbconvert_exporter": "python",
   "pygments_lexer": "ipython3",
   "version": "3.5.2"
  }
 },
 "nbformat": 4,
 "nbformat_minor": 1
}
