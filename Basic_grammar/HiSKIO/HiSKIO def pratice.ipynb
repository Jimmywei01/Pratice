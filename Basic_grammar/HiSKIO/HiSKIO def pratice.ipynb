{
 "cells": [
  {
   "cell_type": "code",
   "execution_count": 7,
   "metadata": {
    "collapsed": false,
    "scrolled": true
   },
   "outputs": [
    {
     "name": "stdout",
     "output_type": "stream",
     "text": [
      "hi\n",
      "hi\n",
      "hi\n",
      "None\n",
      "++++++++++++++++++\n",
      "hi\n",
      "hi\n",
      "hi\n",
      "None\n"
     ]
    }
   ],
   "source": [
    "def hi():\n",
    "    for i in range(3):\n",
    "        print('hi')\n",
    "\n",
    "print(hi())\n",
    "\n",
    "print('++++++++++++++++++')\n",
    "# 傳入參數 n \n",
    "def hi(n):\n",
    "    for i in range(n):\n",
    "        print('hi')\n",
    "print(hi(3))"
   ]
  },
  {
   "cell_type": "code",
   "execution_count": 6,
   "metadata": {
    "collapsed": false
   },
   "outputs": [
    {
     "name": "stdout",
     "output_type": "stream",
     "text": [
      "5\n",
      "6\n",
      "f(5,6)=16\n"
     ]
    }
   ],
   "source": [
    "# 再函式中 x,y 為'區域變數'\n",
    "def f(x,y):\n",
    "    ans = 2*x+y\n",
    "    return ans # 1.回傳值 2.把東西存下來 3.return 可以有很多個\n",
    "\n",
    "num1 = eval(input())\n",
    "num2 = eval(input())\n",
    "result = f(num1,num2) # 回傳到 def\n",
    "\n",
    "print(\"f(%d,%d)=%d\"%(num1,num2,result))\n",
    "\n"
   ]
  },
  {
   "cell_type": "code",
   "execution_count": 8,
   "metadata": {
    "collapsed": false
   },
   "outputs": [
    {
     "name": "stdout",
     "output_type": "stream",
     "text": [
      "5\n",
      "6\n",
      "P(5,6)=30\n"
     ]
    }
   ],
   "source": [
    "def P(n,m):\n",
    "    ans = n*m\n",
    "    return ans\n",
    "\n",
    "num1 = eval(input())\n",
    "num2 = eval(input())\n",
    "result = P(num1,num2)\n",
    "\n",
    "print(\"P(%d,%d)=%d\"%(num1,num2,result))"
   ]
  },
  {
   "cell_type": "code",
   "execution_count": 10,
   "metadata": {
    "collapsed": false
   },
   "outputs": [
    {
     "name": "stdout",
     "output_type": "stream",
     "text": [
      "5\n",
      "15\n"
     ]
    }
   ],
   "source": [
    "# eval 把字串型態給執行起來  , 執行文字裡的程式碼\n",
    "\n",
    "def sum1(n):\n",
    "    total = 0\n",
    "    for i in range(1,n+1):\n",
    "        total+=i\n",
    "    return total\n",
    "\n",
    "a = eval(input())\n",
    "\n",
    "print(sum1(a))"
   ]
  },
  {
   "cell_type": "code",
   "execution_count": 12,
   "metadata": {
    "collapsed": false
   },
   "outputs": [
    {
     "name": "stdout",
     "output_type": "stream",
     "text": [
      "5\n",
      "120\n"
     ]
    }
   ],
   "source": [
    "def sum1(n):\n",
    "    total = 1\n",
    "    for i in range(1,n+1):\n",
    "        total*=i\n",
    "    return total\n",
    "\n",
    "a = eval(input())\n",
    "\n",
    "print(sum1(a))"
   ]
  },
  {
   "cell_type": "code",
   "execution_count": 14,
   "metadata": {
    "collapsed": false
   },
   "outputs": [
    {
     "name": "stdout",
     "output_type": "stream",
     "text": [
      "uid 1\n",
      "name jimmy\n",
      "age 20\n",
      "uid 2\n",
      "name may\n",
      "age 0\n",
      "uid 3\n",
      "name name\n",
      "age 0\n"
     ]
    }
   ],
   "source": [
    "# 函式 預設參數\n",
    "# 提供預設值\n",
    "# 可在參數列 --- 直接將參數指派數值\n",
    "\n",
    "def p(uid,name = 'name',age=0):\n",
    "    print('uid',uid)\n",
    "    print('name',name)\n",
    "    print('age',age)\n",
    "\n",
    "p(1,'jimmy',20)\n",
    "p(2,'may')\n",
    "p(3)"
   ]
  },
  {
   "cell_type": "code",
   "execution_count": 20,
   "metadata": {
    "collapsed": false
   },
   "outputs": [
    {
     "name": "stdout",
     "output_type": "stream",
     "text": [
      "5\n",
      "(15, 120)\n"
     ]
    }
   ],
   "source": [
    "def sum1(n):\n",
    "    tf = 1\n",
    "    tl = 0\n",
    "    for i in range(1,n+1):\n",
    "        tl+=i\n",
    "        tf*=i\n",
    "    return tl,tf\n",
    "\n",
    "a = eval(input())\n",
    "\n",
    "print(sum1(a))"
   ]
  }
 ],
 "metadata": {
  "anaconda-cloud": {},
  "kernelspec": {
   "display_name": "Python [conda root]",
   "language": "python",
   "name": "conda-root-py"
  },
  "language_info": {
   "codemirror_mode": {
    "name": "ipython",
    "version": 3
   },
   "file_extension": ".py",
   "mimetype": "text/x-python",
   "name": "python",
   "nbconvert_exporter": "python",
   "pygments_lexer": "ipython3",
   "version": "3.5.2"
  }
 },
 "nbformat": 4,
 "nbformat_minor": 1
}
