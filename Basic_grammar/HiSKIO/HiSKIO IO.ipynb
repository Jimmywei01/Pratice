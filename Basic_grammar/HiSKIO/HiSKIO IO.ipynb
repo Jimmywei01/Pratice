{
 "cells": [
  {
   "cell_type": "code",
   "execution_count": null,
   "metadata": {
    "collapsed": true
   },
   "outputs": [],
   "source": [
    "with open ('xxx.csv','r',encoding='UTF-8') as fr:\n",
    "    for i in fr:\n",
    "        print(i)\n",
    "    "
   ]
  },
  {
   "cell_type": "code",
   "execution_count": null,
   "metadata": {
    "collapsed": true
   },
   "outputs": [],
   "source": [
    "file = open('xxx.csv','r',encoding='UTF-8')\n",
    "content = file.read()\n",
    "print(content)\n",
    "file.close()"
   ]
  },
  {
   "cell_type": "code",
   "execution_count": null,
   "metadata": {
    "collapsed": true
   },
   "outputs": [],
   "source": [
    "#for i in txtLst: # 不建議\n",
    "\n",
    "# txt的長度 差在於取出的東西 i 是否可放回去 index(建議使用)\n",
    "for i in range(len(txtLst)): \n",
    "    txtLst[i]=txtLst[i].strip() # 把 i 做 strip 再放回\n",
    "    print(txtLst[i])"
   ]
  }
 ],
 "metadata": {
  "kernelspec": {
   "display_name": "Python [conda root]",
   "language": "python",
   "name": "conda-root-py"
  },
  "language_info": {
   "codemirror_mode": {
    "name": "ipython",
    "version": 3
   },
   "file_extension": ".py",
   "mimetype": "text/x-python",
   "name": "python",
   "nbconvert_exporter": "python",
   "pygments_lexer": "ipython3",
   "version": "3.5.2"
  }
 },
 "nbformat": 4,
 "nbformat_minor": 1
}
