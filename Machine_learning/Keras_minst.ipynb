{
 "cells": [
  {
   "cell_type": "code",
   "execution_count": 11,
   "metadata": {},
   "outputs": [
    {
     "name": "stderr",
     "output_type": "stream",
     "text": [
      "Using TensorFlow backend.\n"
     ]
    }
   ],
   "source": [
    "import keras"
   ]
  },
  {
   "cell_type": "code",
   "execution_count": 1,
   "metadata": {},
   "outputs": [
    {
     "name": "stderr",
     "output_type": "stream",
     "text": [
      "Using TensorFlow backend.\n"
     ]
    }
   ],
   "source": [
    "import numpy as np\n",
    "np.random.seed(1337)  # for reproducibility\n",
    "from keras.datasets import mnist\n",
    "from keras.utils import np_utils\n",
    "from keras.models import Sequential #一層一層的建立神經層\n",
    "from keras.layers import Dense, Activation \n",
    "# layers.Dense表示這個神經層是全連接層\n",
    "# layers.Activation 激勵函數\n",
    "from keras.optimizers import RMSprop #優化器採用RMSprop，加速神經網絡訓練方法"
   ]
  },
  {
   "cell_type": "code",
   "execution_count": 2,
   "metadata": {},
   "outputs": [],
   "source": [
    "# 載入數據：使用Keras本身的MNIST，分成訓練集和測試集\n",
    "# x是圖片，y是突變對應的標籤（也就是數字）\n",
    "(X_train, y_train), (X_test, y_test) = mnist.load_data()"
   ]
  },
  {
   "cell_type": "code",
   "execution_count": 3,
   "metadata": {},
   "outputs": [],
   "source": [
    "# 對圖片轉成的數據做標準化(輸入的x變成60000*784的數據，除以255做標準化)\n",
    "X_train = X_train.reshape(X_train.shape[0], -1) / 255.   # normalize\n",
    "X_test = X_test.reshape(X_test.shape[0], -1) / 255.      # normalize\n",
    "\n",
    "# y是數字0-9之間，現在是一個大小為10的向量，\n",
    "#用one-hot-encoding轉換成0和1的形式 ex.數字2:0010000000\n",
    "                                #   數字5:0000010000\n",
    "y_train = np_utils.to_categorical(y_train, num_classes=10)\n",
    "y_test = np_utils.to_categorical(y_test, num_classes=10)"
   ]
  },
  {
   "cell_type": "code",
   "execution_count": 4,
   "metadata": {
    "scrolled": true
   },
   "outputs": [
    {
     "name": "stdout",
     "output_type": "stream",
     "text": [
      "(784,)\n",
      "[[ 0.  0.  0.  0.  0.  1.  0.  0.  0.  0.]\n",
      " [ 1.  0.  0.  0.  0.  0.  0.  0.  0.  0.]\n",
      " [ 0.  0.  0.  0.  1.  0.  0.  0.  0.  0.]]\n"
     ]
    }
   ],
   "source": [
    "print(X_train[1].shape)\n",
    "\n",
    "#測試第一筆到第三筆\n",
    "print(y_train[:3])"
   ]
  },
  {
   "cell_type": "code",
   "execution_count": 5,
   "metadata": {
    "collapsed": true
   },
   "outputs": [],
   "source": [
    "# 建立模型\n",
    "# 第一段加入Dense神經層，輸入784維度，輸出32維度，第一層傳出的數據有32個feature，傳給激勵函數\n",
    "# 經過激勵函數之後，就變成了非線性的數據。\n",
    "# 然後再把這個數據傳給下一個神經層，我們定義它有10個輸出的功能，接下來再輸入給下面的softmax函數，用來分類。\n",
    "model = Sequential([\n",
    "    Dense(32, input_dim=784),\n",
    "    Activation('relu'),\n",
    "    Dense(10),\n",
    "    Activation('softmax'),\n",
    "])"
   ]
  },
  {
   "cell_type": "code",
   "execution_count": 6,
   "metadata": {
    "collapsed": true
   },
   "outputs": [],
   "source": [
    "# 用RMSprop作為優化器\n",
    "rmsprop = RMSprop(lr=0.001, rho=0.9, epsilon=1e-08, decay=0.0)"
   ]
  },
  {
   "cell_type": "code",
   "execution_count": 7,
   "metadata": {
    "collapsed": true
   },
   "outputs": [],
   "source": [
    "# 激活模型\n",
    "# metrics裡面可以放入需要計算的cost、accuracy、score等，這裡選擇accuracy準確度\n",
    "model.compile(optimizer=rmsprop,\n",
    "              loss='categorical_crossentropy',\n",
    "              metrics=['accuracy'])\n"
   ]
  },
  {
   "cell_type": "code",
   "execution_count": 14,
   "metadata": {},
   "outputs": [
    {
     "name": "stdout",
     "output_type": "stream",
     "text": [
      "Training ------------\n",
      "Epoch 1/5\n",
      " 1696/60000 [..............................] - ETA: 5s - loss: 0.0932 - acc: 0.9699"
     ]
    },
    {
     "name": "stderr",
     "output_type": "stream",
     "text": [
      "/Users/pengyuching/.pyenv/versions/3.5.2/lib/python3.5/site-packages/keras/models.py:844: UserWarning: The `nb_epoch` argument in `fit` has been renamed `epochs`.\n",
      "  warnings.warn('The `nb_epoch` argument in `fit` '\n"
     ]
    },
    {
     "name": "stdout",
     "output_type": "stream",
     "text": [
      "60000/60000 [==============================] - 4s - loss: 0.0950 - acc: 0.9740     \n",
      "Epoch 2/5\n",
      "60000/60000 [==============================] - 4s - loss: 0.0920 - acc: 0.9750     \n",
      "Epoch 3/5\n",
      "60000/60000 [==============================] - 4s - loss: 0.0876 - acc: 0.9759     \n",
      "Epoch 4/5\n",
      "60000/60000 [==============================] - 4s - loss: 0.0856 - acc: 0.9762     \n",
      "Epoch 5/5\n",
      "60000/60000 [==============================] - 4s - loss: 0.0822 - acc: 0.9775     \n"
     ]
    },
    {
     "data": {
      "text/plain": [
       "<keras.callbacks.History at 0x132bb88d0>"
      ]
     },
     "execution_count": 14,
     "metadata": {},
     "output_type": "execute_result"
    }
   ],
   "source": [
    "print('Training ------------')\n",
    "# fit函數，把訓練集的x和y傳入之後，nb_epoch表示數據訓練的次數\n",
    "#batch_size是每批處理的個數\n",
    "\n",
    "model.fit(X_train, y_train, nb_epoch=5, batch_size=32)"
   ]
  },
  {
   "cell_type": "code",
   "execution_count": 15,
   "metadata": {},
   "outputs": [
    {
     "name": "stdout",
     "output_type": "stream",
     "text": [
      "\n",
      "Testing ------------\n",
      " 8992/10000 [=========================>....] - ETA: 0stest loss:  0.13430336295\n",
      "test accuracy:  0.9678\n"
     ]
    }
   ],
   "source": [
    "print('\\nTesting ------------')\n",
    "# 測試模型\n",
    "loss, accuracy = model.evaluate(X_test, y_test)\n",
    "\n",
    "print('test loss: ', loss)\n",
    "print('test accuracy: ', accuracy) #準確度"
   ]
  },
  {
   "cell_type": "code",
   "execution_count": null,
   "metadata": {
    "collapsed": true
   },
   "outputs": [],
   "source": []
  }
 ],
 "metadata": {
  "kernelspec": {
   "display_name": "Python 3",
   "language": "python",
   "name": "python3"
  },
  "language_info": {
   "codemirror_mode": {
    "name": "ipython",
    "version": 3
   },
   "file_extension": ".py",
   "mimetype": "text/x-python",
   "name": "python",
   "nbconvert_exporter": "python",
   "pygments_lexer": "ipython3",
   "version": "3.5.2"
  }
 },
 "nbformat": 4,
 "nbformat_minor": 2
}
